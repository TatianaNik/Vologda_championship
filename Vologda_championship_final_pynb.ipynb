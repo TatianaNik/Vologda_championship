{
  "cells": [
    {
      "cell_type": "markdown",
      "metadata": {
        "id": "view-in-github",
        "colab_type": "text"
      },
      "source": [
        "<a href=\"https://colab.research.google.com/github/TatianaNik/Vologda_championship/blob/main/Vologda_championship_final_pynb.ipynb\" target=\"_parent\"><img src=\"https://colab.research.google.com/assets/colab-badge.svg\" alt=\"Open In Colab\"/></a>"
      ]
    },
    {
      "cell_type": "code",
      "execution_count": null,
      "metadata": {
        "id": "QU_e0wj8mhhw"
      },
      "outputs": [],
      "source": [
        "import pandas as pd\n",
        "\n",
        "import numpy as np \n",
        "\n",
        "# Функции-утилиты для работы с категориальными данными\n",
        "from tensorflow.keras import utils, models\n",
        "\n",
        "# Класс для конструирования модели нейронной сети\n",
        "from tensorflow.keras.models import Model\n",
        "\n",
        "# Основные слои\n",
        "from tensorflow.keras.layers import Dense, Dropout, BatchNormalization, Activation, Input, concatenate\n",
        "\n",
        "# Оптимизатор\n",
        "from tensorflow.keras.optimizers import Adam\n",
        "\n",
        "# Токенизатор для преобразование текстов в последовательности\n",
        "from tensorflow.keras.preprocessing.text import Tokenizer\n",
        "\n",
        "# Масштабирование данных\n",
        "from sklearn.preprocessing import StandardScaler\n",
        "\n",
        "# Метрика\n",
        "from sklearn.metrics import recall_score\n",
        "\n",
        "from tensorflow.keras.callbacks import ModelCheckpoint\n",
        "\n"
      ]
    },
    {
      "cell_type": "code",
      "execution_count": null,
      "metadata": {
        "id": "zVg3zpKYm1xq"
      },
      "outputs": [],
      "source": [
        "df_train = pd.read_csv(\"/content/drive/MyDrive/train_dataset_Vologda.csv\")"
      ]
    },
    {
      "cell_type": "code",
      "source": [
        "from google.colab import drive\n",
        "drive.mount('/content/drive')"
      ],
      "metadata": {
        "colab": {
          "base_uri": "https://localhost:8080/"
        },
        "id": "TY6Q0fQoFSsR",
        "outputId": "95cda2ce-f6d7-4bf0-ab7d-b3f1658605e9"
      },
      "execution_count": null,
      "outputs": [
        {
          "output_type": "stream",
          "name": "stdout",
          "text": [
            "Drive already mounted at /content/drive; to attempt to forcibly remount, call drive.mount(\"/content/drive\", force_remount=True).\n"
          ]
        }
      ]
    },
    {
      "cell_type": "code",
      "execution_count": null,
      "metadata": {
        "id": "Ge5I5hZFgvlv"
      },
      "outputs": [],
      "source": [
        "df_test = pd.read_csv(\"/content/drive/MyDrive/test_dataset_Vologda.csv\")"
      ]
    },
    {
      "cell_type": "code",
      "execution_count": null,
      "metadata": {
        "colab": {
          "base_uri": "https://localhost:8080/",
          "height": 433
        },
        "id": "o4eqlGhvm11P",
        "outputId": "8c9a7c8e-486d-43d3-a181-c295727ac5e1"
      },
      "outputs": [
        {
          "output_type": "execute_result",
          "data": {
            "text/plain": [
              "   RecordNo           Название книги         Автор  \\\n",
              "0      6145  Зулейха открывает глаза  Гузель Яхина   \n",
              "1      7006  Зулейха открывает глаза  Гузель Яхина   \n",
              "2      1124                 Дети мои  Гузель Яхина   \n",
              "\n",
              "                                    Ссылка на литрес  Рейтинг  \\\n",
              "0  https://www.litres.ru/guzel-yahina/zuleyha-otk...      4.7   \n",
              "1  https://www.litres.ru/guzel-yahina/zuleyha-otk...      4.6   \n",
              "2       https://www.litres.ru/guzel-yahina/deti-moi/      4.4   \n",
              "\n",
              "   Количество оценок  Количество отзывов    Имя читателя  \\\n",
              "0               3922                 408   Айгуль Ляпина   \n",
              "1              24719                2103          Olga T   \n",
              "2               8032                 702  Кирилл Чириков   \n",
              "\n",
              "   Оценка книги читателем (из 5 баллов)  \\\n",
              "0                                   5.0   \n",
              "1                                   5.0   \n",
              "2                                   5.0   \n",
              "\n",
              "                                               Отзыв  Лайки на отзыв  \\\n",
              "0  Рекомендую книгу в прочтению/прослушиванию. Ес...               0   \n",
              "1  Удивительно, что сейчас возникает ТАКАЯ литера...               0   \n",
              "2  Душевно, жизненно, чувственно, проникновенно!!...               0   \n",
              "\n",
              "   Дислайки на отзыв  Релевантность  Таксономия релевантные  \\\n",
              "0                  3              0                       0   \n",
              "1                  1              0                       0   \n",
              "2                  0              0                       1   \n",
              "\n",
              "   Таксономия не релевантные  Длина отзыва  Ценности  \n",
              "0                          0             0         0  \n",
              "1                          0             0         1  \n",
              "2                          0             0         1  "
            ],
            "text/html": [
              "\n",
              "  <div id=\"df-54d8c0d8-ce77-4077-a4ce-19d0943a1971\">\n",
              "    <div class=\"colab-df-container\">\n",
              "      <div>\n",
              "<style scoped>\n",
              "    .dataframe tbody tr th:only-of-type {\n",
              "        vertical-align: middle;\n",
              "    }\n",
              "\n",
              "    .dataframe tbody tr th {\n",
              "        vertical-align: top;\n",
              "    }\n",
              "\n",
              "    .dataframe thead th {\n",
              "        text-align: right;\n",
              "    }\n",
              "</style>\n",
              "<table border=\"1\" class=\"dataframe\">\n",
              "  <thead>\n",
              "    <tr style=\"text-align: right;\">\n",
              "      <th></th>\n",
              "      <th>RecordNo</th>\n",
              "      <th>Название книги</th>\n",
              "      <th>Автор</th>\n",
              "      <th>Ссылка на литрес</th>\n",
              "      <th>Рейтинг</th>\n",
              "      <th>Количество оценок</th>\n",
              "      <th>Количество отзывов</th>\n",
              "      <th>Имя читателя</th>\n",
              "      <th>Оценка книги читателем (из 5 баллов)</th>\n",
              "      <th>Отзыв</th>\n",
              "      <th>Лайки на отзыв</th>\n",
              "      <th>Дислайки на отзыв</th>\n",
              "      <th>Релевантность</th>\n",
              "      <th>Таксономия релевантные</th>\n",
              "      <th>Таксономия не релевантные</th>\n",
              "      <th>Длина отзыва</th>\n",
              "      <th>Ценности</th>\n",
              "    </tr>\n",
              "  </thead>\n",
              "  <tbody>\n",
              "    <tr>\n",
              "      <th>0</th>\n",
              "      <td>6145</td>\n",
              "      <td>Зулейха открывает глаза</td>\n",
              "      <td>Гузель Яхина</td>\n",
              "      <td>https://www.litres.ru/guzel-yahina/zuleyha-otk...</td>\n",
              "      <td>4.7</td>\n",
              "      <td>3922</td>\n",
              "      <td>408</td>\n",
              "      <td>Айгуль Ляпина</td>\n",
              "      <td>5.0</td>\n",
              "      <td>Рекомендую книгу в прочтению/прослушиванию. Ес...</td>\n",
              "      <td>0</td>\n",
              "      <td>3</td>\n",
              "      <td>0</td>\n",
              "      <td>0</td>\n",
              "      <td>0</td>\n",
              "      <td>0</td>\n",
              "      <td>0</td>\n",
              "    </tr>\n",
              "    <tr>\n",
              "      <th>1</th>\n",
              "      <td>7006</td>\n",
              "      <td>Зулейха открывает глаза</td>\n",
              "      <td>Гузель Яхина</td>\n",
              "      <td>https://www.litres.ru/guzel-yahina/zuleyha-otk...</td>\n",
              "      <td>4.6</td>\n",
              "      <td>24719</td>\n",
              "      <td>2103</td>\n",
              "      <td>Olga T</td>\n",
              "      <td>5.0</td>\n",
              "      <td>Удивительно, что сейчас возникает ТАКАЯ литера...</td>\n",
              "      <td>0</td>\n",
              "      <td>1</td>\n",
              "      <td>0</td>\n",
              "      <td>0</td>\n",
              "      <td>0</td>\n",
              "      <td>0</td>\n",
              "      <td>1</td>\n",
              "    </tr>\n",
              "    <tr>\n",
              "      <th>2</th>\n",
              "      <td>1124</td>\n",
              "      <td>Дети мои</td>\n",
              "      <td>Гузель Яхина</td>\n",
              "      <td>https://www.litres.ru/guzel-yahina/deti-moi/</td>\n",
              "      <td>4.4</td>\n",
              "      <td>8032</td>\n",
              "      <td>702</td>\n",
              "      <td>Кирилл Чириков</td>\n",
              "      <td>5.0</td>\n",
              "      <td>Душевно, жизненно, чувственно, проникновенно!!...</td>\n",
              "      <td>0</td>\n",
              "      <td>0</td>\n",
              "      <td>0</td>\n",
              "      <td>1</td>\n",
              "      <td>0</td>\n",
              "      <td>0</td>\n",
              "      <td>1</td>\n",
              "    </tr>\n",
              "  </tbody>\n",
              "</table>\n",
              "</div>\n",
              "      <button class=\"colab-df-convert\" onclick=\"convertToInteractive('df-54d8c0d8-ce77-4077-a4ce-19d0943a1971')\"\n",
              "              title=\"Convert this dataframe to an interactive table.\"\n",
              "              style=\"display:none;\">\n",
              "        \n",
              "  <svg xmlns=\"http://www.w3.org/2000/svg\" height=\"24px\"viewBox=\"0 0 24 24\"\n",
              "       width=\"24px\">\n",
              "    <path d=\"M0 0h24v24H0V0z\" fill=\"none\"/>\n",
              "    <path d=\"M18.56 5.44l.94 2.06.94-2.06 2.06-.94-2.06-.94-.94-2.06-.94 2.06-2.06.94zm-11 1L8.5 8.5l.94-2.06 2.06-.94-2.06-.94L8.5 2.5l-.94 2.06-2.06.94zm10 10l.94 2.06.94-2.06 2.06-.94-2.06-.94-.94-2.06-.94 2.06-2.06.94z\"/><path d=\"M17.41 7.96l-1.37-1.37c-.4-.4-.92-.59-1.43-.59-.52 0-1.04.2-1.43.59L10.3 9.45l-7.72 7.72c-.78.78-.78 2.05 0 2.83L4 21.41c.39.39.9.59 1.41.59.51 0 1.02-.2 1.41-.59l7.78-7.78 2.81-2.81c.8-.78.8-2.07 0-2.86zM5.41 20L4 18.59l7.72-7.72 1.47 1.35L5.41 20z\"/>\n",
              "  </svg>\n",
              "      </button>\n",
              "      \n",
              "  <style>\n",
              "    .colab-df-container {\n",
              "      display:flex;\n",
              "      flex-wrap:wrap;\n",
              "      gap: 12px;\n",
              "    }\n",
              "\n",
              "    .colab-df-convert {\n",
              "      background-color: #E8F0FE;\n",
              "      border: none;\n",
              "      border-radius: 50%;\n",
              "      cursor: pointer;\n",
              "      display: none;\n",
              "      fill: #1967D2;\n",
              "      height: 32px;\n",
              "      padding: 0 0 0 0;\n",
              "      width: 32px;\n",
              "    }\n",
              "\n",
              "    .colab-df-convert:hover {\n",
              "      background-color: #E2EBFA;\n",
              "      box-shadow: 0px 1px 2px rgba(60, 64, 67, 0.3), 0px 1px 3px 1px rgba(60, 64, 67, 0.15);\n",
              "      fill: #174EA6;\n",
              "    }\n",
              "\n",
              "    [theme=dark] .colab-df-convert {\n",
              "      background-color: #3B4455;\n",
              "      fill: #D2E3FC;\n",
              "    }\n",
              "\n",
              "    [theme=dark] .colab-df-convert:hover {\n",
              "      background-color: #434B5C;\n",
              "      box-shadow: 0px 1px 3px 1px rgba(0, 0, 0, 0.15);\n",
              "      filter: drop-shadow(0px 1px 2px rgba(0, 0, 0, 0.3));\n",
              "      fill: #FFFFFF;\n",
              "    }\n",
              "  </style>\n",
              "\n",
              "      <script>\n",
              "        const buttonEl =\n",
              "          document.querySelector('#df-54d8c0d8-ce77-4077-a4ce-19d0943a1971 button.colab-df-convert');\n",
              "        buttonEl.style.display =\n",
              "          google.colab.kernel.accessAllowed ? 'block' : 'none';\n",
              "\n",
              "        async function convertToInteractive(key) {\n",
              "          const element = document.querySelector('#df-54d8c0d8-ce77-4077-a4ce-19d0943a1971');\n",
              "          const dataTable =\n",
              "            await google.colab.kernel.invokeFunction('convertToInteractive',\n",
              "                                                     [key], {});\n",
              "          if (!dataTable) return;\n",
              "\n",
              "          const docLinkHtml = 'Like what you see? Visit the ' +\n",
              "            '<a target=\"_blank\" href=https://colab.research.google.com/notebooks/data_table.ipynb>data table notebook</a>'\n",
              "            + ' to learn more about interactive tables.';\n",
              "          element.innerHTML = '';\n",
              "          dataTable['output_type'] = 'display_data';\n",
              "          await google.colab.output.renderOutput(dataTable, element);\n",
              "          const docLink = document.createElement('div');\n",
              "          docLink.innerHTML = docLinkHtml;\n",
              "          element.appendChild(docLink);\n",
              "        }\n",
              "      </script>\n",
              "    </div>\n",
              "  </div>\n",
              "  "
            ]
          },
          "metadata": {},
          "execution_count": 9
        }
      ],
      "source": [
        "df_train.head(3)"
      ]
    },
    {
      "cell_type": "code",
      "execution_count": null,
      "metadata": {
        "colab": {
          "base_uri": "https://localhost:8080/"
        },
        "id": "Q68LCLmmnwsq",
        "outputId": "0fba7928-cbf7-4271-bf62-efec9dcd9c37"
      },
      "outputs": [
        {
          "output_type": "execute_result",
          "data": {
            "text/plain": [
              "(4839, 17)"
            ]
          },
          "metadata": {},
          "execution_count": 10
        }
      ],
      "source": [
        "df_train.shape"
      ]
    },
    {
      "cell_type": "code",
      "source": [
        "df_train['Лайки на отзыв'].unique()"
      ],
      "metadata": {
        "colab": {
          "base_uri": "https://localhost:8080/"
        },
        "id": "UlSehER36qHp",
        "outputId": "b7c6920d-0f80-4aa2-c07d-87ebf185c48e"
      },
      "execution_count": null,
      "outputs": [
        {
          "output_type": "execute_result",
          "data": {
            "text/plain": [
              "array([  0,   2,   1,  92,   7,   8,  22,   3,   5,  48,   4, 132, 111,\n",
              "        15,  11,  21,  10,  12, 660,  73,  27,   6,  84,  50,  30,  42,\n",
              "        20,  74,  19,  45,   9,  98,  59, 874,  18,  49,  16,  26,  31,\n",
              "        68,  17,  14, 224, 114,  37, 251,  23,  56,  28, 156,  13, 168,\n",
              "        29,  72,  38,  24,  65,  32,  57,  60,  35,  47,  41, 350,  69,\n",
              "        33,  71, 107, 369,  63,  44,  43, 589, 105,  89,  58,  25, 153,\n",
              "       332,  39, 249, 178,  54, 117, 200, 123,  34, 147,  75,  88,  78,\n",
              "        40,  83,  87,  93, 791,  82,  90])"
            ]
          },
          "metadata": {},
          "execution_count": 11
        }
      ]
    },
    {
      "cell_type": "code",
      "execution_count": null,
      "metadata": {
        "colab": {
          "base_uri": "https://localhost:8080/"
        },
        "id": "oyIwmWjuuUy8",
        "outputId": "5ebb717a-4a53-4b23-a2d9-ec402d25f764"
      },
      "outputs": [
        {
          "output_type": "execute_result",
          "data": {
            "text/plain": [
              "(2075, 12)"
            ]
          },
          "metadata": {},
          "execution_count": 12
        }
      ],
      "source": [
        "df_test.shape"
      ]
    },
    {
      "cell_type": "code",
      "execution_count": null,
      "metadata": {
        "colab": {
          "base_uri": "https://localhost:8080/"
        },
        "id": "dAZg7WqbnwwI",
        "outputId": "5b4aef2c-43c7-44a1-c358-3a9b55822f4d"
      },
      "outputs": [
        {
          "output_type": "stream",
          "name": "stdout",
          "text": [
            "<class 'pandas.core.frame.DataFrame'>\n",
            "RangeIndex: 4839 entries, 0 to 4838\n",
            "Data columns (total 17 columns):\n",
            " #   Column                                Non-Null Count  Dtype  \n",
            "---  ------                                --------------  -----  \n",
            " 0   RecordNo                              4839 non-null   int64  \n",
            " 1   Название книги                        4839 non-null   object \n",
            " 2   Автор                                 4839 non-null   object \n",
            " 3   Ссылка на литрес                      4839 non-null   object \n",
            " 4   Рейтинг                               4839 non-null   float64\n",
            " 5   Количество оценок                     4839 non-null   int64  \n",
            " 6   Количество отзывов                    4839 non-null   int64  \n",
            " 7   Имя читателя                          4839 non-null   object \n",
            " 8   Оценка книги читателем (из 5 баллов)  4070 non-null   float64\n",
            " 9   Отзыв                                 4839 non-null   object \n",
            " 10  Лайки на отзыв                        4839 non-null   int64  \n",
            " 11  Дислайки на отзыв                     4839 non-null   int64  \n",
            " 12  Релевантность                         4839 non-null   int64  \n",
            " 13  Таксономия релевантные                4839 non-null   int64  \n",
            " 14  Таксономия не релевантные             4839 non-null   int64  \n",
            " 15  Длина отзыва                          4839 non-null   int64  \n",
            " 16  Ценности                              4839 non-null   int64  \n",
            "dtypes: float64(2), int64(10), object(5)\n",
            "memory usage: 642.8+ KB\n"
          ]
        }
      ],
      "source": [
        "df_train.info()"
      ]
    },
    {
      "cell_type": "code",
      "execution_count": null,
      "metadata": {
        "id": "_mDVCwDDoHRo"
      },
      "outputs": [],
      "source": [
        "df_train[\"len_reviews\"] = df_train[\"Отзыв\"].map(len)"
      ]
    },
    {
      "cell_type": "code",
      "source": [
        "df_test[\"len_reviews\"] = df_test[\"Отзыв\"].map(len)"
      ],
      "metadata": {
        "id": "pCpWle-5eve8"
      },
      "execution_count": null,
      "outputs": []
    },
    {
      "cell_type": "code",
      "execution_count": null,
      "metadata": {
        "id": "H40cdIYErOpJ"
      },
      "outputs": [],
      "source": [
        "df_train = df_train.fillna(0)\n",
        "df_test = df_test.fillna(0)"
      ]
    },
    {
      "cell_type": "code",
      "execution_count": null,
      "metadata": {
        "colab": {
          "base_uri": "https://localhost:8080/"
        },
        "id": "sLpyBtw7rwhK",
        "outputId": "bb8df902-9628-4845-c116-e4cef37f2bbd"
      },
      "outputs": [
        {
          "output_type": "execute_result",
          "data": {
            "text/plain": [
              "array(['RecordNo', 'Название книги', 'Автор', 'Ссылка на литрес',\n",
              "       'Рейтинг', 'Количество оценок', 'Количество отзывов',\n",
              "       'Имя читателя', 'Оценка книги читателем (из 5 баллов)', 'Отзыв',\n",
              "       'Лайки на отзыв', 'Дислайки на отзыв', 'Релевантность',\n",
              "       'Таксономия релевантные', 'Таксономия не релевантные',\n",
              "       'Длина отзыва', 'Ценности', 'len_reviews'], dtype=object)"
            ]
          },
          "metadata": {},
          "execution_count": 17
        }
      ],
      "source": [
        "df_train.columns.values"
      ]
    },
    {
      "cell_type": "code",
      "execution_count": null,
      "metadata": {
        "colab": {
          "base_uri": "https://localhost:8080/"
        },
        "id": "XQ7IO2N0XAPj",
        "outputId": "e47b4e1b-666c-4da3-d83a-1b83aea25250"
      },
      "outputs": [
        {
          "output_type": "execute_result",
          "data": {
            "text/plain": [
              "(6914,)"
            ]
          },
          "metadata": {},
          "execution_count": 18
        }
      ],
      "source": [
        "from sklearn import preprocessing  \n",
        "\n",
        "label_encoder = preprocessing.LabelEncoder()  \n",
        "# кодируем имена писателей в тренировочной и тестовой выборках метками\n",
        "df_aftor_train = df_train['Автор']\n",
        "df_aftor_test = df_test['Автор']\n",
        "df = pd.concat([df_aftor_train, df_aftor_test])\n",
        "\n",
        "df = label_encoder.fit_transform(df)\n",
        "\n",
        "df.shape\n"
      ]
    },
    {
      "cell_type": "code",
      "source": [
        "# нормализация данных \n",
        "from sklearn.preprocessing import MinMaxScaler\n",
        "scaler = MinMaxScaler()\n",
        "df_scaled = scaler.fit_transform(df.reshape(-1,1)) #  нормализация закодированных имен авторов"
      ],
      "metadata": {
        "id": "BuyyDMrTPX1_"
      },
      "execution_count": null,
      "outputs": []
    },
    {
      "cell_type": "code",
      "execution_count": null,
      "metadata": {
        "id": "zubP5saN569v"
      },
      "outputs": [],
      "source": [
        "df_train['Автор_label'] = df_scaled[:4839]  # в тренировочную выборку добавляем столбец с нормализованными именами авторов "
      ]
    },
    {
      "cell_type": "code",
      "execution_count": null,
      "metadata": {
        "id": "I13leRSY6Lw8",
        "colab": {
          "base_uri": "https://localhost:8080/"
        },
        "outputId": "71fbb9ec-e0e5-47d0-9fd2-9495f900ef57"
      },
      "outputs": [
        {
          "output_type": "execute_result",
          "data": {
            "text/plain": [
              "0    0.383333\n",
              "1    0.450000\n",
              "2    0.450000\n",
              "3    0.383333\n",
              "Name: Автор_label, dtype: float64"
            ]
          },
          "metadata": {},
          "execution_count": 21
        }
      ],
      "source": [
        "df_test['Автор_label'] = df_scaled[-2075:]  # в тестовую выборку добавляем столбец с нормализованными именами авторов \n",
        "df_test['Автор_label'][:4]  # смотрим для примера первые 4 строки столбца   "
      ]
    },
    {
      "cell_type": "code",
      "source": [
        "df_likes_train = df_train['Лайки на отзыв']\n",
        "df_likes_test = df_test['Лайки на отзыв']\n",
        "df = pd.concat([df_likes_train, df_likes_test])\n",
        "print(df.shape)\n",
        "scaler1 = MinMaxScaler()\n"
      ],
      "metadata": {
        "colab": {
          "base_uri": "https://localhost:8080/"
        },
        "id": "3dj7RHXU7X-S",
        "outputId": "9a17e197-11ca-4662-e8b1-c9848ad68638"
      },
      "execution_count": null,
      "outputs": [
        {
          "output_type": "stream",
          "name": "stdout",
          "text": [
            "(6914,)\n"
          ]
        }
      ]
    },
    {
      "cell_type": "code",
      "source": [
        "df_scaled = scaler1.fit_transform(np.array(df).reshape(-1,1)) #  нормализация  количества лайков\n",
        "df_train['Лайки на отзыв'] = df_scaled[:4839] \n",
        "df_test['Лайки на отзыв'] = df_scaled[-2075:]"
      ],
      "metadata": {
        "id": "ISBsnbIz-Cr7"
      },
      "execution_count": null,
      "outputs": []
    },
    {
      "cell_type": "code",
      "source": [
        "df_dislikes_train = df_train['Дислайки на отзыв']\n",
        "df_dislikes_test = df_test['Дислайки на отзыв']\n",
        "df = pd.concat([df_dislikes_train, df_dislikes_test])"
      ],
      "metadata": {
        "id": "48UQouZbs0rd"
      },
      "execution_count": null,
      "outputs": []
    },
    {
      "cell_type": "code",
      "source": [
        "df_scaled = scaler1.fit_transform(np.array(df).reshape(-1,1)) #  нормализация  количества дислайков\n",
        "df_train['Дислайки на отзыв'] = df_scaled[:4839] \n",
        "df_test['Дислайки на отзыв'] = df_scaled[-2075:]"
      ],
      "metadata": {
        "id": "Tu6tt3umtKMS"
      },
      "execution_count": null,
      "outputs": []
    },
    {
      "cell_type": "code",
      "source": [
        "# нормализуем значения рейтинга, количества отзывов, длину отзывов"
      ],
      "metadata": {
        "id": "TFe1u4RCqh-A"
      },
      "execution_count": null,
      "outputs": []
    },
    {
      "cell_type": "code",
      "source": [
        "df_train['Рейтинг'] = scaler.fit_transform(np.array(df_train['Рейтинг']).reshape(-1,1))"
      ],
      "metadata": {
        "id": "XTLusVvQSmqw"
      },
      "execution_count": null,
      "outputs": []
    },
    {
      "cell_type": "code",
      "source": [
        "df_test['Рейтинг'] = scaler.fit_transform(np.array(df_test['Рейтинг']).reshape(-1,1))"
      ],
      "metadata": {
        "id": "PJJsTk5YTU8s"
      },
      "execution_count": null,
      "outputs": []
    },
    {
      "cell_type": "code",
      "source": [
        "df_train['Количество отзывов'] = scaler.fit_transform(np.array(df_train['Количество отзывов']).reshape(-1,1))"
      ],
      "metadata": {
        "id": "kjql2sESUmcc"
      },
      "execution_count": null,
      "outputs": []
    },
    {
      "cell_type": "code",
      "source": [
        "df_test['Количество отзывов'] = scaler.fit_transform(np.array(df_test['Количество отзывов']).reshape(-1,1))"
      ],
      "metadata": {
        "id": "mkaND5fOU3os"
      },
      "execution_count": null,
      "outputs": []
    },
    {
      "cell_type": "code",
      "source": [
        "df_train['len_reviews'] = scaler.fit_transform(np.array(df_train['len_reviews']).reshape(-1,1))"
      ],
      "metadata": {
        "id": "ybpA3s6ceVPj"
      },
      "execution_count": null,
      "outputs": []
    },
    {
      "cell_type": "code",
      "source": [
        "df_test['len_reviews'] = scaler.fit_transform(np.array(df_test['len_reviews']).reshape(-1,1))"
      ],
      "metadata": {
        "id": "eBnYY2e5eVS_"
      },
      "execution_count": null,
      "outputs": []
    },
    {
      "cell_type": "code",
      "source": [
        "df_train['Оценка книги читателем (из 5 баллов)'].nunique()"
      ],
      "metadata": {
        "colab": {
          "base_uri": "https://localhost:8080/"
        },
        "id": "izSA9t56WJXE",
        "outputId": "85e84aee-f69c-440c-87c2-d1800314469e"
      },
      "execution_count": null,
      "outputs": [
        {
          "output_type": "execute_result",
          "data": {
            "text/plain": [
              "6"
            ]
          },
          "metadata": {},
          "execution_count": 32
        }
      ]
    },
    {
      "cell_type": "code",
      "source": [
        "df_train.head(3)"
      ],
      "metadata": {
        "colab": {
          "base_uri": "https://localhost:8080/",
          "height": 433
        },
        "id": "dXJo-EWAeF02",
        "outputId": "1814b27a-c0ed-47d2-b506-a8f7b7c2a824"
      },
      "execution_count": null,
      "outputs": [
        {
          "output_type": "execute_result",
          "data": {
            "text/plain": [
              "   RecordNo           Название книги         Автор  \\\n",
              "0      6145  Зулейха открывает глаза  Гузель Яхина   \n",
              "1      7006  Зулейха открывает глаза  Гузель Яхина   \n",
              "2      1124                 Дети мои  Гузель Яхина   \n",
              "\n",
              "                                    Ссылка на литрес   Рейтинг  \\\n",
              "0  https://www.litres.ru/guzel-yahina/zuleyha-otk...  0.833333   \n",
              "1  https://www.litres.ru/guzel-yahina/zuleyha-otk...  0.777778   \n",
              "2       https://www.litres.ru/guzel-yahina/deti-moi/  0.666667   \n",
              "\n",
              "   Количество оценок  Количество отзывов    Имя читателя  \\\n",
              "0               3922            0.193625   Айгуль Ляпина   \n",
              "1              24719            1.000000          Olga T   \n",
              "2               8032            0.333492  Кирилл Чириков   \n",
              "\n",
              "   Оценка книги читателем (из 5 баллов)  \\\n",
              "0                                   5.0   \n",
              "1                                   5.0   \n",
              "2                                   5.0   \n",
              "\n",
              "                                               Отзыв  Лайки на отзыв  \\\n",
              "0  Рекомендую книгу в прочтению/прослушиванию. Ес...             0.0   \n",
              "1  Удивительно, что сейчас возникает ТАКАЯ литера...             0.0   \n",
              "2  Душевно, жизненно, чувственно, проникновенно!!...             0.0   \n",
              "\n",
              "   Дислайки на отзыв  Релевантность  Таксономия релевантные  \\\n",
              "0           0.006536              0                       0   \n",
              "1           0.002179              0                       0   \n",
              "2           0.000000              0                       1   \n",
              "\n",
              "   Таксономия не релевантные  Длина отзыва  Ценности  len_reviews  Автор_label  \n",
              "0                          0             0         0     0.025884     0.383333  \n",
              "1                          0             0         1     0.046789     0.383333  \n",
              "2                          0             0         1     0.045960     0.383333  "
            ],
            "text/html": [
              "\n",
              "  <div id=\"df-b053bb8c-c4b7-431a-bda3-9132902101f7\">\n",
              "    <div class=\"colab-df-container\">\n",
              "      <div>\n",
              "<style scoped>\n",
              "    .dataframe tbody tr th:only-of-type {\n",
              "        vertical-align: middle;\n",
              "    }\n",
              "\n",
              "    .dataframe tbody tr th {\n",
              "        vertical-align: top;\n",
              "    }\n",
              "\n",
              "    .dataframe thead th {\n",
              "        text-align: right;\n",
              "    }\n",
              "</style>\n",
              "<table border=\"1\" class=\"dataframe\">\n",
              "  <thead>\n",
              "    <tr style=\"text-align: right;\">\n",
              "      <th></th>\n",
              "      <th>RecordNo</th>\n",
              "      <th>Название книги</th>\n",
              "      <th>Автор</th>\n",
              "      <th>Ссылка на литрес</th>\n",
              "      <th>Рейтинг</th>\n",
              "      <th>Количество оценок</th>\n",
              "      <th>Количество отзывов</th>\n",
              "      <th>Имя читателя</th>\n",
              "      <th>Оценка книги читателем (из 5 баллов)</th>\n",
              "      <th>Отзыв</th>\n",
              "      <th>Лайки на отзыв</th>\n",
              "      <th>Дислайки на отзыв</th>\n",
              "      <th>Релевантность</th>\n",
              "      <th>Таксономия релевантные</th>\n",
              "      <th>Таксономия не релевантные</th>\n",
              "      <th>Длина отзыва</th>\n",
              "      <th>Ценности</th>\n",
              "      <th>len_reviews</th>\n",
              "      <th>Автор_label</th>\n",
              "    </tr>\n",
              "  </thead>\n",
              "  <tbody>\n",
              "    <tr>\n",
              "      <th>0</th>\n",
              "      <td>6145</td>\n",
              "      <td>Зулейха открывает глаза</td>\n",
              "      <td>Гузель Яхина</td>\n",
              "      <td>https://www.litres.ru/guzel-yahina/zuleyha-otk...</td>\n",
              "      <td>0.833333</td>\n",
              "      <td>3922</td>\n",
              "      <td>0.193625</td>\n",
              "      <td>Айгуль Ляпина</td>\n",
              "      <td>5.0</td>\n",
              "      <td>Рекомендую книгу в прочтению/прослушиванию. Ес...</td>\n",
              "      <td>0.0</td>\n",
              "      <td>0.006536</td>\n",
              "      <td>0</td>\n",
              "      <td>0</td>\n",
              "      <td>0</td>\n",
              "      <td>0</td>\n",
              "      <td>0</td>\n",
              "      <td>0.025884</td>\n",
              "      <td>0.383333</td>\n",
              "    </tr>\n",
              "    <tr>\n",
              "      <th>1</th>\n",
              "      <td>7006</td>\n",
              "      <td>Зулейха открывает глаза</td>\n",
              "      <td>Гузель Яхина</td>\n",
              "      <td>https://www.litres.ru/guzel-yahina/zuleyha-otk...</td>\n",
              "      <td>0.777778</td>\n",
              "      <td>24719</td>\n",
              "      <td>1.000000</td>\n",
              "      <td>Olga T</td>\n",
              "      <td>5.0</td>\n",
              "      <td>Удивительно, что сейчас возникает ТАКАЯ литера...</td>\n",
              "      <td>0.0</td>\n",
              "      <td>0.002179</td>\n",
              "      <td>0</td>\n",
              "      <td>0</td>\n",
              "      <td>0</td>\n",
              "      <td>0</td>\n",
              "      <td>1</td>\n",
              "      <td>0.046789</td>\n",
              "      <td>0.383333</td>\n",
              "    </tr>\n",
              "    <tr>\n",
              "      <th>2</th>\n",
              "      <td>1124</td>\n",
              "      <td>Дети мои</td>\n",
              "      <td>Гузель Яхина</td>\n",
              "      <td>https://www.litres.ru/guzel-yahina/deti-moi/</td>\n",
              "      <td>0.666667</td>\n",
              "      <td>8032</td>\n",
              "      <td>0.333492</td>\n",
              "      <td>Кирилл Чириков</td>\n",
              "      <td>5.0</td>\n",
              "      <td>Душевно, жизненно, чувственно, проникновенно!!...</td>\n",
              "      <td>0.0</td>\n",
              "      <td>0.000000</td>\n",
              "      <td>0</td>\n",
              "      <td>1</td>\n",
              "      <td>0</td>\n",
              "      <td>0</td>\n",
              "      <td>1</td>\n",
              "      <td>0.045960</td>\n",
              "      <td>0.383333</td>\n",
              "    </tr>\n",
              "  </tbody>\n",
              "</table>\n",
              "</div>\n",
              "      <button class=\"colab-df-convert\" onclick=\"convertToInteractive('df-b053bb8c-c4b7-431a-bda3-9132902101f7')\"\n",
              "              title=\"Convert this dataframe to an interactive table.\"\n",
              "              style=\"display:none;\">\n",
              "        \n",
              "  <svg xmlns=\"http://www.w3.org/2000/svg\" height=\"24px\"viewBox=\"0 0 24 24\"\n",
              "       width=\"24px\">\n",
              "    <path d=\"M0 0h24v24H0V0z\" fill=\"none\"/>\n",
              "    <path d=\"M18.56 5.44l.94 2.06.94-2.06 2.06-.94-2.06-.94-.94-2.06-.94 2.06-2.06.94zm-11 1L8.5 8.5l.94-2.06 2.06-.94-2.06-.94L8.5 2.5l-.94 2.06-2.06.94zm10 10l.94 2.06.94-2.06 2.06-.94-2.06-.94-.94-2.06-.94 2.06-2.06.94z\"/><path d=\"M17.41 7.96l-1.37-1.37c-.4-.4-.92-.59-1.43-.59-.52 0-1.04.2-1.43.59L10.3 9.45l-7.72 7.72c-.78.78-.78 2.05 0 2.83L4 21.41c.39.39.9.59 1.41.59.51 0 1.02-.2 1.41-.59l7.78-7.78 2.81-2.81c.8-.78.8-2.07 0-2.86zM5.41 20L4 18.59l7.72-7.72 1.47 1.35L5.41 20z\"/>\n",
              "  </svg>\n",
              "      </button>\n",
              "      \n",
              "  <style>\n",
              "    .colab-df-container {\n",
              "      display:flex;\n",
              "      flex-wrap:wrap;\n",
              "      gap: 12px;\n",
              "    }\n",
              "\n",
              "    .colab-df-convert {\n",
              "      background-color: #E8F0FE;\n",
              "      border: none;\n",
              "      border-radius: 50%;\n",
              "      cursor: pointer;\n",
              "      display: none;\n",
              "      fill: #1967D2;\n",
              "      height: 32px;\n",
              "      padding: 0 0 0 0;\n",
              "      width: 32px;\n",
              "    }\n",
              "\n",
              "    .colab-df-convert:hover {\n",
              "      background-color: #E2EBFA;\n",
              "      box-shadow: 0px 1px 2px rgba(60, 64, 67, 0.3), 0px 1px 3px 1px rgba(60, 64, 67, 0.15);\n",
              "      fill: #174EA6;\n",
              "    }\n",
              "\n",
              "    [theme=dark] .colab-df-convert {\n",
              "      background-color: #3B4455;\n",
              "      fill: #D2E3FC;\n",
              "    }\n",
              "\n",
              "    [theme=dark] .colab-df-convert:hover {\n",
              "      background-color: #434B5C;\n",
              "      box-shadow: 0px 1px 3px 1px rgba(0, 0, 0, 0.15);\n",
              "      filter: drop-shadow(0px 1px 2px rgba(0, 0, 0, 0.3));\n",
              "      fill: #FFFFFF;\n",
              "    }\n",
              "  </style>\n",
              "\n",
              "      <script>\n",
              "        const buttonEl =\n",
              "          document.querySelector('#df-b053bb8c-c4b7-431a-bda3-9132902101f7 button.colab-df-convert');\n",
              "        buttonEl.style.display =\n",
              "          google.colab.kernel.accessAllowed ? 'block' : 'none';\n",
              "\n",
              "        async function convertToInteractive(key) {\n",
              "          const element = document.querySelector('#df-b053bb8c-c4b7-431a-bda3-9132902101f7');\n",
              "          const dataTable =\n",
              "            await google.colab.kernel.invokeFunction('convertToInteractive',\n",
              "                                                     [key], {});\n",
              "          if (!dataTable) return;\n",
              "\n",
              "          const docLinkHtml = 'Like what you see? Visit the ' +\n",
              "            '<a target=\"_blank\" href=https://colab.research.google.com/notebooks/data_table.ipynb>data table notebook</a>'\n",
              "            + ' to learn more about interactive tables.';\n",
              "          element.innerHTML = '';\n",
              "          dataTable['output_type'] = 'display_data';\n",
              "          await google.colab.output.renderOutput(dataTable, element);\n",
              "          const docLink = document.createElement('div');\n",
              "          docLink.innerHTML = docLinkHtml;\n",
              "          element.appendChild(docLink);\n",
              "        }\n",
              "      </script>\n",
              "    </div>\n",
              "  </div>\n",
              "  "
            ]
          },
          "metadata": {},
          "execution_count": 33
        }
      ]
    },
    {
      "cell_type": "code",
      "source": [
        "# Настройка номеров столбцов df_train ( для удобства последующего использования)\n",
        "\n",
        "AVTOR     = df_train.columns.get_loc('Автор_label')\n",
        "RATING      = df_train.columns.get_loc('Рейтинг')\n",
        "REVIEWS_NUMBER    = df_train.columns.get_loc('Количество отзывов')\n",
        "MARK     = df_train.columns.get_loc('Оценка книги читателем (из 5 баллов)')\n",
        "REVIEW      = df_train.columns.get_loc('Отзыв')\n",
        "LIKES = df_train.columns.get_loc('Лайки на отзыв')\n",
        "DISLIKES = df_train.columns.get_loc('Дислайки на отзыв') #  не использовались в данной версии\n",
        "LEN_REVIEWS      = df_train.columns.get_loc('len_reviews')\n",
        "RELEV = df_train.columns.get_loc('Релевантность')\n",
        "TAX_RELEV = df_train.columns.get_loc('Таксономия релевантные')\n",
        "TAX_NON_RELEV = df_train.columns.get_loc('Таксономия не релевантные')\n",
        "LEN      = df_train.columns.get_loc('Длина отзыва')\n",
        "VALUES      = df_train.columns.get_loc('Ценности')"
      ],
      "metadata": {
        "id": "98pJZWq3aU_s"
      },
      "execution_count": null,
      "outputs": []
    },
    {
      "cell_type": "code",
      "source": [
        "# Функция извлечения отзывов\n",
        "\n",
        "def extract_text(row_list):\n",
        "    result = []\n",
        "    \n",
        "    # Для всех строк таблицы\n",
        "    for row in row_list:\n",
        "        result.append(str(row[REVIEW]))\n",
        "    \n",
        "    # Возврат в виде массива\n",
        "    return result"
      ],
      "metadata": {
        "id": "hddOYzeUZuGQ"
      },
      "execution_count": null,
      "outputs": []
    },
    {
      "cell_type": "code",
      "source": [
        "# Извлечение текстов отзывов\n",
        "text_train = extract_text(df_train.values) \n",
        "text_test = extract_text(df_test.values) "
      ],
      "metadata": {
        "id": "6z03ayxJaIIy"
      },
      "execution_count": null,
      "outputs": []
    },
    {
      "cell_type": "code",
      "source": [
        "# предварительная обработка текста\n",
        "from string import punctuation\n",
        "\n",
        "def remove_punctuation(my_string):\n",
        "  return \"\".join([ch if ch not in punctuation else \" \" for ch in my_string])\n",
        "\n",
        "def remove_numbers(my_string):\n",
        "  return \"\".join([i if not i.isdigit() else \" \" for i in my_string])\n",
        "\n",
        "import re\n",
        "def remove_multiple_spaces(my_string):\n",
        "  return re.sub(r'\\s+', ' ', my_string, flags=re.I)\n",
        "\n",
        "preprocessing = lambda text: (remove_multiple_spaces(remove_numbers(remove_punctuation(text.lower()))))\n",
        "\n",
        "text_processed = ['']\n",
        "\n",
        "df_train['text_processed'] = list(map(preprocessing, text_train))\n",
        "df_test['text_processed'] = list(map(preprocessing, text_test))\n",
        "df_train.head(3)\n"
      ],
      "metadata": {
        "colab": {
          "base_uri": "https://localhost:8080/",
          "height": 468
        },
        "id": "ZPJd9_qZlMP4",
        "outputId": "d214b85f-70f6-4d26-f98c-a8f11cab4405"
      },
      "execution_count": null,
      "outputs": [
        {
          "output_type": "execute_result",
          "data": {
            "text/plain": [
              "   RecordNo           Название книги         Автор  \\\n",
              "0      6145  Зулейха открывает глаза  Гузель Яхина   \n",
              "1      7006  Зулейха открывает глаза  Гузель Яхина   \n",
              "2      1124                 Дети мои  Гузель Яхина   \n",
              "\n",
              "                                    Ссылка на литрес   Рейтинг  \\\n",
              "0  https://www.litres.ru/guzel-yahina/zuleyha-otk...  0.833333   \n",
              "1  https://www.litres.ru/guzel-yahina/zuleyha-otk...  0.777778   \n",
              "2       https://www.litres.ru/guzel-yahina/deti-moi/  0.666667   \n",
              "\n",
              "   Количество оценок  Количество отзывов    Имя читателя  \\\n",
              "0               3922            0.193625   Айгуль Ляпина   \n",
              "1              24719            1.000000          Olga T   \n",
              "2               8032            0.333492  Кирилл Чириков   \n",
              "\n",
              "   Оценка книги читателем (из 5 баллов)  \\\n",
              "0                                   5.0   \n",
              "1                                   5.0   \n",
              "2                                   5.0   \n",
              "\n",
              "                                               Отзыв  Лайки на отзыв  \\\n",
              "0  Рекомендую книгу в прочтению/прослушиванию. Ес...             0.0   \n",
              "1  Удивительно, что сейчас возникает ТАКАЯ литера...             0.0   \n",
              "2  Душевно, жизненно, чувственно, проникновенно!!...             0.0   \n",
              "\n",
              "   Дислайки на отзыв  Релевантность  Таксономия релевантные  \\\n",
              "0           0.006536              0                       0   \n",
              "1           0.002179              0                       0   \n",
              "2           0.000000              0                       1   \n",
              "\n",
              "   Таксономия не релевантные  Длина отзыва  Ценности  len_reviews  \\\n",
              "0                          0             0         0     0.025884   \n",
              "1                          0             0         1     0.046789   \n",
              "2                          0             0         1     0.045960   \n",
              "\n",
              "   Автор_label                                     text_processed  \n",
              "0     0.383333  рекомендую книгу в прочтению прослушиванию ест...  \n",
              "1     0.383333  удивительно что сейчас возникает такая литерат...  \n",
              "2     0.383333  душевно жизненно чувственно проникновенно исто...  "
            ],
            "text/html": [
              "\n",
              "  <div id=\"df-3357dbbc-c315-4c36-b2ee-d7a25fb2c2e8\">\n",
              "    <div class=\"colab-df-container\">\n",
              "      <div>\n",
              "<style scoped>\n",
              "    .dataframe tbody tr th:only-of-type {\n",
              "        vertical-align: middle;\n",
              "    }\n",
              "\n",
              "    .dataframe tbody tr th {\n",
              "        vertical-align: top;\n",
              "    }\n",
              "\n",
              "    .dataframe thead th {\n",
              "        text-align: right;\n",
              "    }\n",
              "</style>\n",
              "<table border=\"1\" class=\"dataframe\">\n",
              "  <thead>\n",
              "    <tr style=\"text-align: right;\">\n",
              "      <th></th>\n",
              "      <th>RecordNo</th>\n",
              "      <th>Название книги</th>\n",
              "      <th>Автор</th>\n",
              "      <th>Ссылка на литрес</th>\n",
              "      <th>Рейтинг</th>\n",
              "      <th>Количество оценок</th>\n",
              "      <th>Количество отзывов</th>\n",
              "      <th>Имя читателя</th>\n",
              "      <th>Оценка книги читателем (из 5 баллов)</th>\n",
              "      <th>Отзыв</th>\n",
              "      <th>Лайки на отзыв</th>\n",
              "      <th>Дислайки на отзыв</th>\n",
              "      <th>Релевантность</th>\n",
              "      <th>Таксономия релевантные</th>\n",
              "      <th>Таксономия не релевантные</th>\n",
              "      <th>Длина отзыва</th>\n",
              "      <th>Ценности</th>\n",
              "      <th>len_reviews</th>\n",
              "      <th>Автор_label</th>\n",
              "      <th>text_processed</th>\n",
              "    </tr>\n",
              "  </thead>\n",
              "  <tbody>\n",
              "    <tr>\n",
              "      <th>0</th>\n",
              "      <td>6145</td>\n",
              "      <td>Зулейха открывает глаза</td>\n",
              "      <td>Гузель Яхина</td>\n",
              "      <td>https://www.litres.ru/guzel-yahina/zuleyha-otk...</td>\n",
              "      <td>0.833333</td>\n",
              "      <td>3922</td>\n",
              "      <td>0.193625</td>\n",
              "      <td>Айгуль Ляпина</td>\n",
              "      <td>5.0</td>\n",
              "      <td>Рекомендую книгу в прочтению/прослушиванию. Ес...</td>\n",
              "      <td>0.0</td>\n",
              "      <td>0.006536</td>\n",
              "      <td>0</td>\n",
              "      <td>0</td>\n",
              "      <td>0</td>\n",
              "      <td>0</td>\n",
              "      <td>0</td>\n",
              "      <td>0.025884</td>\n",
              "      <td>0.383333</td>\n",
              "      <td>рекомендую книгу в прочтению прослушиванию ест...</td>\n",
              "    </tr>\n",
              "    <tr>\n",
              "      <th>1</th>\n",
              "      <td>7006</td>\n",
              "      <td>Зулейха открывает глаза</td>\n",
              "      <td>Гузель Яхина</td>\n",
              "      <td>https://www.litres.ru/guzel-yahina/zuleyha-otk...</td>\n",
              "      <td>0.777778</td>\n",
              "      <td>24719</td>\n",
              "      <td>1.000000</td>\n",
              "      <td>Olga T</td>\n",
              "      <td>5.0</td>\n",
              "      <td>Удивительно, что сейчас возникает ТАКАЯ литера...</td>\n",
              "      <td>0.0</td>\n",
              "      <td>0.002179</td>\n",
              "      <td>0</td>\n",
              "      <td>0</td>\n",
              "      <td>0</td>\n",
              "      <td>0</td>\n",
              "      <td>1</td>\n",
              "      <td>0.046789</td>\n",
              "      <td>0.383333</td>\n",
              "      <td>удивительно что сейчас возникает такая литерат...</td>\n",
              "    </tr>\n",
              "    <tr>\n",
              "      <th>2</th>\n",
              "      <td>1124</td>\n",
              "      <td>Дети мои</td>\n",
              "      <td>Гузель Яхина</td>\n",
              "      <td>https://www.litres.ru/guzel-yahina/deti-moi/</td>\n",
              "      <td>0.666667</td>\n",
              "      <td>8032</td>\n",
              "      <td>0.333492</td>\n",
              "      <td>Кирилл Чириков</td>\n",
              "      <td>5.0</td>\n",
              "      <td>Душевно, жизненно, чувственно, проникновенно!!...</td>\n",
              "      <td>0.0</td>\n",
              "      <td>0.000000</td>\n",
              "      <td>0</td>\n",
              "      <td>1</td>\n",
              "      <td>0</td>\n",
              "      <td>0</td>\n",
              "      <td>1</td>\n",
              "      <td>0.045960</td>\n",
              "      <td>0.383333</td>\n",
              "      <td>душевно жизненно чувственно проникновенно исто...</td>\n",
              "    </tr>\n",
              "  </tbody>\n",
              "</table>\n",
              "</div>\n",
              "      <button class=\"colab-df-convert\" onclick=\"convertToInteractive('df-3357dbbc-c315-4c36-b2ee-d7a25fb2c2e8')\"\n",
              "              title=\"Convert this dataframe to an interactive table.\"\n",
              "              style=\"display:none;\">\n",
              "        \n",
              "  <svg xmlns=\"http://www.w3.org/2000/svg\" height=\"24px\"viewBox=\"0 0 24 24\"\n",
              "       width=\"24px\">\n",
              "    <path d=\"M0 0h24v24H0V0z\" fill=\"none\"/>\n",
              "    <path d=\"M18.56 5.44l.94 2.06.94-2.06 2.06-.94-2.06-.94-.94-2.06-.94 2.06-2.06.94zm-11 1L8.5 8.5l.94-2.06 2.06-.94-2.06-.94L8.5 2.5l-.94 2.06-2.06.94zm10 10l.94 2.06.94-2.06 2.06-.94-2.06-.94-.94-2.06-.94 2.06-2.06.94z\"/><path d=\"M17.41 7.96l-1.37-1.37c-.4-.4-.92-.59-1.43-.59-.52 0-1.04.2-1.43.59L10.3 9.45l-7.72 7.72c-.78.78-.78 2.05 0 2.83L4 21.41c.39.39.9.59 1.41.59.51 0 1.02-.2 1.41-.59l7.78-7.78 2.81-2.81c.8-.78.8-2.07 0-2.86zM5.41 20L4 18.59l7.72-7.72 1.47 1.35L5.41 20z\"/>\n",
              "  </svg>\n",
              "      </button>\n",
              "      \n",
              "  <style>\n",
              "    .colab-df-container {\n",
              "      display:flex;\n",
              "      flex-wrap:wrap;\n",
              "      gap: 12px;\n",
              "    }\n",
              "\n",
              "    .colab-df-convert {\n",
              "      background-color: #E8F0FE;\n",
              "      border: none;\n",
              "      border-radius: 50%;\n",
              "      cursor: pointer;\n",
              "      display: none;\n",
              "      fill: #1967D2;\n",
              "      height: 32px;\n",
              "      padding: 0 0 0 0;\n",
              "      width: 32px;\n",
              "    }\n",
              "\n",
              "    .colab-df-convert:hover {\n",
              "      background-color: #E2EBFA;\n",
              "      box-shadow: 0px 1px 2px rgba(60, 64, 67, 0.3), 0px 1px 3px 1px rgba(60, 64, 67, 0.15);\n",
              "      fill: #174EA6;\n",
              "    }\n",
              "\n",
              "    [theme=dark] .colab-df-convert {\n",
              "      background-color: #3B4455;\n",
              "      fill: #D2E3FC;\n",
              "    }\n",
              "\n",
              "    [theme=dark] .colab-df-convert:hover {\n",
              "      background-color: #434B5C;\n",
              "      box-shadow: 0px 1px 3px 1px rgba(0, 0, 0, 0.15);\n",
              "      filter: drop-shadow(0px 1px 2px rgba(0, 0, 0, 0.3));\n",
              "      fill: #FFFFFF;\n",
              "    }\n",
              "  </style>\n",
              "\n",
              "      <script>\n",
              "        const buttonEl =\n",
              "          document.querySelector('#df-3357dbbc-c315-4c36-b2ee-d7a25fb2c2e8 button.colab-df-convert');\n",
              "        buttonEl.style.display =\n",
              "          google.colab.kernel.accessAllowed ? 'block' : 'none';\n",
              "\n",
              "        async function convertToInteractive(key) {\n",
              "          const element = document.querySelector('#df-3357dbbc-c315-4c36-b2ee-d7a25fb2c2e8');\n",
              "          const dataTable =\n",
              "            await google.colab.kernel.invokeFunction('convertToInteractive',\n",
              "                                                     [key], {});\n",
              "          if (!dataTable) return;\n",
              "\n",
              "          const docLinkHtml = 'Like what you see? Visit the ' +\n",
              "            '<a target=\"_blank\" href=https://colab.research.google.com/notebooks/data_table.ipynb>data table notebook</a>'\n",
              "            + ' to learn more about interactive tables.';\n",
              "          element.innerHTML = '';\n",
              "          dataTable['output_type'] = 'display_data';\n",
              "          await google.colab.output.renderOutput(dataTable, element);\n",
              "          const docLink = document.createElement('div');\n",
              "          docLink.innerHTML = docLinkHtml;\n",
              "          element.appendChild(docLink);\n",
              "        }\n",
              "      </script>\n",
              "    </div>\n",
              "  </div>\n",
              "  "
            ]
          },
          "metadata": {},
          "execution_count": 37
        }
      ]
    },
    {
      "cell_type": "code",
      "source": [
        "!pip install pymorphy2\n",
        "!pip install pymorphy2-dict\n",
        "!pip install DAWG-Python"
      ],
      "metadata": {
        "colab": {
          "base_uri": "https://localhost:8080/"
        },
        "id": "bWLhcv49mbmQ",
        "outputId": "819dad56-57ec-43eb-9d6a-2596076259f6"
      },
      "execution_count": null,
      "outputs": [
        {
          "output_type": "stream",
          "name": "stdout",
          "text": [
            "Looking in indexes: https://pypi.org/simple, https://us-python.pkg.dev/colab-wheels/public/simple/\n",
            "Collecting pymorphy2\n",
            "  Downloading pymorphy2-0.9.1-py3-none-any.whl (55 kB)\n",
            "\u001b[K     |████████████████████████████████| 55 kB 2.4 MB/s \n",
            "\u001b[?25hCollecting pymorphy2-dicts-ru<3.0,>=2.4\n",
            "  Downloading pymorphy2_dicts_ru-2.4.417127.4579844-py2.py3-none-any.whl (8.2 MB)\n",
            "\u001b[K     |████████████████████████████████| 8.2 MB 8.8 MB/s \n",
            "\u001b[?25hCollecting docopt>=0.6\n",
            "  Downloading docopt-0.6.2.tar.gz (25 kB)\n",
            "Collecting dawg-python>=0.7.1\n",
            "  Downloading DAWG_Python-0.7.2-py2.py3-none-any.whl (11 kB)\n",
            "Building wheels for collected packages: docopt\n",
            "  Building wheel for docopt (setup.py) ... \u001b[?25l\u001b[?25hdone\n",
            "  Created wheel for docopt: filename=docopt-0.6.2-py2.py3-none-any.whl size=13723 sha256=58b9b55a39d47b236cedc55bb5828dfd6b474c7a779fbc07f3de0819b341ce11\n",
            "  Stored in directory: /root/.cache/pip/wheels/72/b0/3f/1d95f96ff986c7dfffe46ce2be4062f38ebd04b506c77c81b9\n",
            "Successfully built docopt\n",
            "Installing collected packages: pymorphy2-dicts-ru, docopt, dawg-python, pymorphy2\n",
            "Successfully installed dawg-python-0.7.2 docopt-0.6.2 pymorphy2-0.9.1 pymorphy2-dicts-ru-2.4.417127.4579844\n",
            "Looking in indexes: https://pypi.org/simple, https://us-python.pkg.dev/colab-wheels/public/simple/\n",
            "\u001b[31mERROR: Could not find a version that satisfies the requirement pymorphy2-dict (from versions: none)\u001b[0m\n",
            "\u001b[31mERROR: No matching distribution found for pymorphy2-dict\u001b[0m\n",
            "Looking in indexes: https://pypi.org/simple, https://us-python.pkg.dev/colab-wheels/public/simple/\n",
            "Requirement already satisfied: DAWG-Python in /usr/local/lib/python3.7/dist-packages (0.7.2)\n"
          ]
        }
      ]
    },
    {
      "cell_type": "code",
      "source": [
        "import nltk\n",
        "from nltk.corpus import stopwords\n",
        "from nltk import word_tokenize\n",
        "from tqdm.auto import tqdm, trange\n",
        "import pymorphy2\n",
        "nltk.download('stopwords')\n",
        "nltk.download('punkt')\n",
        "morph = pymorphy2.MorphAnalyzer()\n",
        "russian_stopwords = stopwords.words('russian')\n",
        "\n",
        "# лемматизация тренировочной выборки\n",
        "lemm_texts_column = [ ]\n",
        "for text in tqdm(df_train['text_processed']):\n",
        "  tokens = word_tokenize(text)\n",
        "  lemmed_tokens = [morph.parse(token)[0].normal_form for token in tokens if token not in russian_stopwords]\n",
        "  text = \" \".join(lemmed_tokens)\n",
        "  lemm_texts_column.append(text)\n",
        "#  создаем новую колонку\n",
        "df_train[\"text_lemmed\"] = lemm_texts_column\n",
        "\n",
        "# лемматизация тестовой выборки\n",
        "lemm_texts_column = [ ]\n",
        "for text in tqdm(df_test['text_processed']):\n",
        "  tokens = word_tokenize(text)\n",
        "  lemmed_tokens = [morph.parse(token)[0].normal_form for token in tokens if token not in russian_stopwords]\n",
        "  text = \" \".join(lemmed_tokens)\n",
        "  lemm_texts_column.append(text)\n",
        "#  создаем новую колонку\n",
        "df_test[\"text_lemmed\"] = lemm_texts_column"
      ],
      "metadata": {
        "colab": {
          "base_uri": "https://localhost:8080/",
          "height": 150,
          "referenced_widgets": [
            "6813a1e9ae344b56a0fb70eec0071823",
            "8fd07651e23b4aa593e65597efd816f8",
            "148fc8ff1d2d4cb88f254ee2f4e96490",
            "617f6b367f5e4ec3a57e1a7690beab5d",
            "b8a657f15a3049df8dc566bb936a0ddf",
            "c7d94460d3bf49398bedf7b3b01ecbf0",
            "c75e18f785de419db4807c1188cdf900",
            "83ffeb47cb0c4739b25ef43a285c8887",
            "4ecdfccbf9434348982cd260cae21bf3",
            "1047ad933a754bf9a0ad23b4b945f7f3",
            "a01da414f1dd4831b200a5c55dc5dd6c",
            "fdf28501774545d584e546fc6d4d36ac",
            "f622aa092cfd4badad2d259f9eecff67",
            "770ae6e4ea284c31a4a1514dc47cab95",
            "8429a69502fc46cb97edbb58693ef75a",
            "c9eddd3d48764992bc8c0dc1d94215f7",
            "1fc594f8ea644682a36c93a8dd58a019",
            "351a09b2fcc84ebaafbe44fb388cff24",
            "9a1aef2a2f554f438620fd2f2882acf5",
            "c509843ac0e04f8eb9a18bc187e2b6b4",
            "7ff5ff604084428a9e6ac623a0aa22b7",
            "ee368e0f746a423aa7f1a61a588f8d7b"
          ]
        },
        "id": "TfSCxo2AmjU5",
        "outputId": "42d048dd-6e5b-4f1a-edb7-855e80ac74aa"
      },
      "execution_count": null,
      "outputs": [
        {
          "output_type": "stream",
          "name": "stderr",
          "text": [
            "[nltk_data] Downloading package stopwords to /root/nltk_data...\n",
            "[nltk_data]   Unzipping corpora/stopwords.zip.\n",
            "[nltk_data] Downloading package punkt to /root/nltk_data...\n",
            "[nltk_data]   Unzipping tokenizers/punkt.zip.\n"
          ]
        },
        {
          "output_type": "display_data",
          "data": {
            "text/plain": [
              "  0%|          | 0/4839 [00:00<?, ?it/s]"
            ],
            "application/vnd.jupyter.widget-view+json": {
              "version_major": 2,
              "version_minor": 0,
              "model_id": "6813a1e9ae344b56a0fb70eec0071823"
            }
          },
          "metadata": {}
        },
        {
          "output_type": "display_data",
          "data": {
            "text/plain": [
              "  0%|          | 0/2075 [00:00<?, ?it/s]"
            ],
            "application/vnd.jupyter.widget-view+json": {
              "version_major": 2,
              "version_minor": 0,
              "model_id": "fdf28501774545d584e546fc6d4d36ac"
            }
          },
          "metadata": {}
        }
      ]
    },
    {
      "cell_type": "code",
      "source": [
        "# Извлечение тренировочных записей \n",
        "text_data = df_train['text_lemmed'].tolist()\n",
        "# Извлечение тестовых записей \n",
        "test_data = df_test['text_lemmed'].tolist()"
      ],
      "metadata": {
        "id": "BPNej9_6ncIB"
      },
      "execution_count": null,
      "outputs": []
    },
    {
      "cell_type": "code",
      "source": [
        "# Используем встроенный в Keras токенизатор для разбиения текста отзыва и построения частотного словаря\n",
        "tokenizer = Tokenizer(num_words=3000, # объем словаря\n",
        "                      filters='!\"#$%&()*+,-–—./:;<=>?@[\\\\]^_`{|}~\\t\\n\\xa0', # убираемые из текста ненужные символы \n",
        "                      lower=True, # приведение слов к нижнему регистру\n",
        "                      split=' ', # разделитель слов\n",
        "                      oov_token='unknown', # токен для слов, которые не вошли в словарь\n",
        "                      char_level=False     # указание разделять по словам, а не по единичным символам\n",
        "                      )\n",
        "\n",
        "# Построение частотного словаря по отзывам\n",
        "tokenizer.fit_on_texts(text_data+test_data)"
      ],
      "metadata": {
        "id": "KLyXBN_JWJab"
      },
      "execution_count": null,
      "outputs": []
    },
    {
      "cell_type": "code",
      "source": [
        "items = list(tokenizer.word_index.items())       # Получение индексов слов\n",
        "print(items[:50])                                # Посмотр 50 самых часто встречающихся слов\n",
        "print(\"Размер словаря\", len(items))              # Длина словаря"
      ],
      "metadata": {
        "colab": {
          "base_uri": "https://localhost:8080/"
        },
        "id": "_DD941ccag1O",
        "outputId": "6eb21f2c-4268-4f0c-a4e8-6fbf1573c21b"
      },
      "execution_count": null,
      "outputs": [
        {
          "output_type": "stream",
          "name": "stdout",
          "text": [
            "[('unknown', 1), ('книга', 2), ('очень', 3), ('автор', 4), ('это', 5), ('«', 6), ('»', 7), ('читать', 8), ('жизнь', 9), ('человек', 10), ('герой', 11), ('который', 12), ('история', 13), ('один', 14), ('время', 15), ('такой', 16), ('прочитать', 17), ('роман', 18), ('свой', 19), ('сюжет', 20), ('спасибо', 21), ('понравиться', 22), ('произведение', 23), ('язык', 24), ('хороший', 25), ('интересный', 26), ('весь', 27), ('написать', 28), ('первый', 29), ('прочтение', 30), ('хотеться', 31), ('рекомендовать', 32), ('просто', 33), ('дыхание', 34), ('конец', 35), ('наш', 36), ('каждый', 37), ('этот', 38), ('любовь', 39), ('судьба', 40), ('сам', 41), ('тот', 42), ('читаться', 43), ('год', 44), ('событие', 45), ('описание', 46), ('мой', 47), ('прекрасный', 48), ('мочь', 49), ('душа', 50)]\n",
            "Размер словаря 19367\n"
          ]
        }
      ]
    },
    {
      "cell_type": "code",
      "source": [
        "# Преобразование текстов в последовательность индексов согласно частотному словарю\n",
        "text_seq = tokenizer.texts_to_sequences(text_data)\n",
        "\n",
        "test_seq = tokenizer.texts_to_sequences(test_data)"
      ],
      "metadata": {
        "id": "xZWOAPNwaiaT"
      },
      "execution_count": null,
      "outputs": []
    },
    {
      "cell_type": "code",
      "source": [
        "# Преобразование последовательностей индексов в bag of words\n",
        "x_train_text = tokenizer.sequences_to_matrix(text_seq)\n",
        "x_train_text.shape\n",
        "x_test_text = tokenizer.sequences_to_matrix(test_seq)\n",
        "x_test_text.shape"
      ],
      "metadata": {
        "id": "ciBtSlQ2auW4",
        "colab": {
          "base_uri": "https://localhost:8080/"
        },
        "outputId": "1ffcfef8-6c0c-4574-fc7e-e511c796e13f"
      },
      "execution_count": null,
      "outputs": [
        {
          "output_type": "execute_result",
          "data": {
            "text/plain": [
              "(2075, 3000)"
            ]
          },
          "metadata": {},
          "execution_count": 44
        }
      ]
    },
    {
      "cell_type": "code",
      "source": [
        "# Проверка результата\n",
        "print(x_train_text.shape)\n",
        "print(x_train_text[0][0:100])"
      ],
      "metadata": {
        "colab": {
          "base_uri": "https://localhost:8080/"
        },
        "id": "y7xEHSR3a75u",
        "outputId": "bed9d0e3-f4a9-4efc-c429-d4e4f371a559"
      },
      "execution_count": null,
      "outputs": [
        {
          "output_type": "stream",
          "name": "stdout",
          "text": [
            "(4839, 3000)\n",
            "[0. 1. 1. 0. 0. 0. 0. 0. 0. 0. 0. 0. 0. 0. 0. 1. 0. 0. 0. 0. 0. 0. 0. 0.\n",
            " 0. 0. 0. 0. 1. 0. 1. 1. 1. 0. 0. 0. 0. 0. 0. 0. 0. 0. 0. 0. 0. 0. 0. 0.\n",
            " 0. 0. 0. 0. 0. 1. 0. 0. 0. 0. 0. 0. 0. 0. 0. 0. 0. 0. 0. 0. 0. 0. 0. 0.\n",
            " 0. 0. 0. 0. 0. 0. 0. 0. 0. 0. 0. 0. 0. 0. 0. 0. 0. 0. 0. 0. 0. 0. 0. 0.\n",
            " 0. 0. 0. 0.]\n"
          ]
        }
      ]
    },
    {
      "cell_type": "code",
      "execution_count": null,
      "metadata": {
        "id": "Rb0FvAsxBOc2"
      },
      "outputs": [],
      "source": [
        "def extract_row_data(row):\n",
        "  \n",
        "    # Извлечение и преобразование данных\n",
        "    avtor = np.array([row[AVTOR]])                          # автор\n",
        "    rating = np.array([row[RATING]])                         # рейтинг\n",
        "    rev_number = np.array([row[REVIEWS_NUMBER]])             # количество отзывов\n",
        "    like = np.array([row[LIKES]])\n",
        "    \n",
        "    mark = utils.to_categorical(row[MARK], 6)               # оценка книги читателем в формате ohe\n",
        "    len_rev = np.array([row[LEN_REVIEWS]])                   # длина отзыва\n",
        "                                         \n",
        "    # Объединение всех входных данных в один общий вектор\n",
        "    x_data = np.hstack([avtor,\n",
        "                        rating, \n",
        "                        rev_number,\n",
        "                        like,\n",
        "                        mark,\n",
        "                        len_rev])\n",
        "    \n",
        "     \n",
        "    y_data = np.hstack([row[RELEV],\n",
        "                        row[TAX_RELEV],\n",
        "                        row[TAX_NON_RELEV],\n",
        "                        row[LEN],\n",
        "                        row[VALUES]])\n",
        "    \n",
        "    # Возврат входных данных и выходных\n",
        "    return x_data, y_data\n",
        "\n",
        "\n",
        "# Создание общей выборки\n",
        "def construct_train_data(row_list):\n",
        "    x_data = []\n",
        "    y_data = []\n",
        "    \n",
        "    for row in row_list:\n",
        "        x, y = extract_row_data(row)\n",
        "        x_data.append(x)\n",
        "        y_data.append(y)\n",
        "\n",
        "    return np.array(x_data), np.array(y_data)"
      ]
    },
    {
      "cell_type": "code",
      "source": [
        "# Формирование выборки из загруженного набора данных    \n",
        "x_train, y_train = construct_train_data(df_train.values)"
      ],
      "metadata": {
        "id": "FFdrd_VEkUvZ"
      },
      "execution_count": null,
      "outputs": []
    },
    {
      "cell_type": "code",
      "execution_count": null,
      "metadata": {
        "id": "sgSQzZ-ZBOqI"
      },
      "outputs": [],
      "source": [
        "# строим сеть\n",
        "input1 = Input((x_train.shape[1],))\n",
        "\n",
        "input2 = Input((x_train_text.shape[1],))\n",
        "\n",
        "x1 = input1                              # Ветка 1  \n",
        "x1 = Dense(5000, activation=\"relu\")(x1)\n",
        "x1 = Dense(3000, activation=\"relu\")(x1)\n",
        "\n",
        "x1 = Dense(2000, activation=\"relu\")(x1)\n",
        "x1 = Dense(1000, activation=\"relu\")(x1)\n",
        "\n",
        "x1 = Dense(500, activation=\"relu\")(x1)\n",
        "\n",
        "\n",
        "x2 = input2                               # Ветка 2  \n",
        "\n",
        "x2 = Dense(4000, activation=\"relu\")(x2)\n",
        "x2 = Dense(3000, activation=\"relu\")(x2)\n",
        "\n",
        "x2 = Dense(2000, activation=\"relu\")(x2)\n",
        "x2 = Dense(1000, activation=\"relu\")(x2)\n",
        "x2 = Dense(500, activation=\"relu\")(x2)\n",
        "\n",
        "\n",
        "x = concatenate([x1, x2])             # Объединение веток\n",
        "#x = BatchNormalization()(x) \n",
        "\n",
        "x = Dense(500, activation='relu')(x)       # Промежуточный слой\n",
        "x = Dense(1000, activation='relu')(x)       # Промежуточный слой\n",
        "x = Dense(500, activation='relu')(x)       # Промежуточный слой\n",
        "\n",
        "x = Dense(100, activation='relu')(x)       # Промежуточный слой\n",
        "\n",
        "x = BatchNormalization()(x) \n",
        "x = Dense(5, activation='sigmoid')(x)       \n",
        "\n",
        "# В Model передаются входы и выход\n",
        "model_final = Model((input1, input2), x)\n"
      ]
    },
    {
      "cell_type": "code",
      "source": [
        "model_save_path = '/content/model_9.h5' \n",
        "checkpoint_callback = ModelCheckpoint(model_save_path, monitor='val_recall', save_best_only=True, mode='max', verbose=1)"
      ],
      "metadata": {
        "id": "Pde7HHyHhy_l"
      },
      "execution_count": null,
      "outputs": []
    },
    {
      "cell_type": "code",
      "execution_count": null,
      "metadata": {
        "id": "35LcWCipBpw9",
        "colab": {
          "base_uri": "https://localhost:8080/"
        },
        "outputId": "a57f387c-6818-4ca3-e9bb-229103f28382"
      },
      "outputs": [
        {
          "output_type": "stream",
          "name": "stdout",
          "text": [
            "Model: \"model_4\"\n",
            "__________________________________________________________________________________________________\n",
            " Layer (type)                   Output Shape         Param #     Connected to                     \n",
            "==================================================================================================\n",
            " input_9 (InputLayer)           [(None, 11)]         0           []                               \n",
            "                                                                                                  \n",
            " input_10 (InputLayer)          [(None, 3000)]       0           []                               \n",
            "                                                                                                  \n",
            " dense_57 (Dense)               (None, 5000)         60000       ['input_9[0][0]']                \n",
            "                                                                                                  \n",
            " dense_62 (Dense)               (None, 4000)         12004000    ['input_10[0][0]']               \n",
            "                                                                                                  \n",
            " dense_58 (Dense)               (None, 3000)         15003000    ['dense_57[0][0]']               \n",
            "                                                                                                  \n",
            " dense_63 (Dense)               (None, 3000)         12003000    ['dense_62[0][0]']               \n",
            "                                                                                                  \n",
            " dense_59 (Dense)               (None, 2000)         6002000     ['dense_58[0][0]']               \n",
            "                                                                                                  \n",
            " dense_64 (Dense)               (None, 2000)         6002000     ['dense_63[0][0]']               \n",
            "                                                                                                  \n",
            " dense_60 (Dense)               (None, 1000)         2001000     ['dense_59[0][0]']               \n",
            "                                                                                                  \n",
            " dense_65 (Dense)               (None, 1000)         2001000     ['dense_64[0][0]']               \n",
            "                                                                                                  \n",
            " dense_61 (Dense)               (None, 500)          500500      ['dense_60[0][0]']               \n",
            "                                                                                                  \n",
            " dense_66 (Dense)               (None, 500)          500500      ['dense_65[0][0]']               \n",
            "                                                                                                  \n",
            " concatenate_4 (Concatenate)    (None, 1000)         0           ['dense_61[0][0]',               \n",
            "                                                                  'dense_66[0][0]']               \n",
            "                                                                                                  \n",
            " dense_67 (Dense)               (None, 500)          500500      ['concatenate_4[0][0]']          \n",
            "                                                                                                  \n",
            " dense_68 (Dense)               (None, 1000)         501000      ['dense_67[0][0]']               \n",
            "                                                                                                  \n",
            " dense_69 (Dense)               (None, 500)          500500      ['dense_68[0][0]']               \n",
            "                                                                                                  \n",
            " dense_70 (Dense)               (None, 100)          50100       ['dense_69[0][0]']               \n",
            "                                                                                                  \n",
            " batch_normalization_4 (BatchNo  (None, 100)         400         ['dense_70[0][0]']               \n",
            " rmalization)                                                                                     \n",
            "                                                                                                  \n",
            " dense_71 (Dense)               (None, 5)            505         ['batch_normalization_4[0][0]']  \n",
            "                                                                                                  \n",
            "==================================================================================================\n",
            "Total params: 57,630,005\n",
            "Trainable params: 57,629,805\n",
            "Non-trainable params: 200\n",
            "__________________________________________________________________________________________________\n",
            "Epoch 1/30\n",
            "29/31 [===========================>..] - ETA: 0s - loss: 0.5856 - recall: 0.7185\n",
            "Epoch 1: val_recall improved from -inf to 0.86004, saving model to /content/model_9.h5\n",
            "31/31 [==============================] - 5s 119ms/step - loss: 0.5818 - recall: 0.7218 - val_loss: 0.6694 - val_recall: 0.8600\n",
            "Epoch 2/30\n",
            "29/31 [===========================>..] - ETA: 0s - loss: 0.4001 - recall: 0.8995\n",
            "Epoch 2: val_recall did not improve from 0.86004\n",
            "31/31 [==============================] - 1s 27ms/step - loss: 0.3980 - recall: 0.9016 - val_loss: 0.6306 - val_recall: 0.8144\n",
            "Epoch 3/30\n",
            "31/31 [==============================] - ETA: 0s - loss: 0.2629 - recall: 0.9823\n",
            "Epoch 3: val_recall did not improve from 0.86004\n",
            "31/31 [==============================] - 1s 25ms/step - loss: 0.2629 - recall: 0.9823 - val_loss: 0.5686 - val_recall: 0.7707\n",
            "Epoch 4/30\n",
            "31/31 [==============================] - ETA: 0s - loss: 0.1708 - recall: 0.9959\n",
            "Epoch 4: val_recall did not improve from 0.86004\n",
            "31/31 [==============================] - 1s 24ms/step - loss: 0.1708 - recall: 0.9959 - val_loss: 0.5326 - val_recall: 0.7074\n",
            "Epoch 5/30\n",
            "31/31 [==============================] - ETA: 0s - loss: 0.1109 - recall: 0.9992\n",
            "Epoch 5: val_recall did not improve from 0.86004\n",
            "31/31 [==============================] - 1s 24ms/step - loss: 0.1109 - recall: 0.9992 - val_loss: 0.4861 - val_recall: 0.7549\n",
            "Epoch 6/30\n",
            "30/31 [============================>.] - ETA: 0s - loss: 0.0775 - recall: 1.0000\n",
            "Epoch 6: val_recall did not improve from 0.86004\n",
            "31/31 [==============================] - 1s 25ms/step - loss: 0.0775 - recall: 1.0000 - val_loss: 0.4488 - val_recall: 0.8144\n",
            "Epoch 7/30\n",
            "30/31 [============================>.] - ETA: 0s - loss: 0.0638 - recall: 1.0000\n",
            "Epoch 7: val_recall did not improve from 0.86004\n",
            "31/31 [==============================] - 1s 25ms/step - loss: 0.0640 - recall: 1.0000 - val_loss: 0.4144 - val_recall: 0.8011\n",
            "Epoch 8/30\n",
            "31/31 [==============================] - ETA: 0s - loss: 0.0545 - recall: 1.0000\n",
            "Epoch 8: val_recall did not improve from 0.86004\n",
            "31/31 [==============================] - 1s 25ms/step - loss: 0.0545 - recall: 1.0000 - val_loss: 0.4584 - val_recall: 0.8410\n",
            "Epoch 9/30\n",
            "31/31 [==============================] - ETA: 0s - loss: 0.0477 - recall: 1.0000\n",
            "Epoch 9: val_recall did not improve from 0.86004\n",
            "31/31 [==============================] - 1s 24ms/step - loss: 0.0477 - recall: 1.0000 - val_loss: 0.4236 - val_recall: 0.8493\n",
            "Epoch 10/30\n",
            "31/31 [==============================] - ETA: 0s - loss: 0.0423 - recall: 1.0000\n",
            "Epoch 10: val_recall improved from 0.86004 to 0.86194, saving model to /content/model_9.h5\n",
            "31/31 [==============================] - 3s 108ms/step - loss: 0.0423 - recall: 1.0000 - val_loss: 0.4092 - val_recall: 0.8619\n",
            "Epoch 11/30\n",
            "29/31 [===========================>..] - ETA: 0s - loss: 0.0418 - recall: 1.0000\n",
            "Epoch 11: val_recall did not improve from 0.86194\n",
            "31/31 [==============================] - 1s 28ms/step - loss: 0.0415 - recall: 1.0000 - val_loss: 0.4067 - val_recall: 0.7745\n",
            "Epoch 12/30\n",
            "31/31 [==============================] - ETA: 0s - loss: 0.0375 - recall: 1.0000\n",
            "Epoch 12: val_recall did not improve from 0.86194\n",
            "31/31 [==============================] - 1s 24ms/step - loss: 0.0375 - recall: 1.0000 - val_loss: 0.3798 - val_recall: 0.8284\n",
            "Epoch 13/30\n",
            "31/31 [==============================] - ETA: 0s - loss: 0.0363 - recall: 1.0000\n",
            "Epoch 13: val_recall improved from 0.86194 to 0.87017, saving model to /content/model_9.h5\n",
            "31/31 [==============================] - 3s 105ms/step - loss: 0.0363 - recall: 1.0000 - val_loss: 0.4907 - val_recall: 0.8702\n",
            "Epoch 14/30\n",
            "31/31 [==============================] - ETA: 0s - loss: 0.0342 - recall: 1.0000\n",
            "Epoch 14: val_recall did not improve from 0.87017\n",
            "31/31 [==============================] - 1s 27ms/step - loss: 0.0342 - recall: 1.0000 - val_loss: 0.3887 - val_recall: 0.8024\n",
            "Epoch 15/30\n",
            "31/31 [==============================] - ETA: 0s - loss: 0.0313 - recall: 1.0000\n",
            "Epoch 15: val_recall did not improve from 0.87017\n",
            "31/31 [==============================] - 1s 24ms/step - loss: 0.0313 - recall: 1.0000 - val_loss: 0.4745 - val_recall: 0.8429\n",
            "Epoch 16/30\n",
            "30/31 [============================>.] - ETA: 0s - loss: 0.0308 - recall: 1.0000\n",
            "Epoch 16: val_recall did not improve from 0.87017\n",
            "31/31 [==============================] - 1s 25ms/step - loss: 0.0309 - recall: 1.0000 - val_loss: 0.3845 - val_recall: 0.7872\n",
            "Epoch 17/30\n",
            "30/31 [============================>.] - ETA: 0s - loss: 0.0294 - recall: 1.0000\n",
            "Epoch 17: val_recall did not improve from 0.87017\n",
            "31/31 [==============================] - 1s 24ms/step - loss: 0.0294 - recall: 1.0000 - val_loss: 0.4294 - val_recall: 0.7771\n",
            "Epoch 18/30\n",
            "29/31 [===========================>..] - ETA: 0s - loss: 0.0275 - recall: 1.0000\n",
            "Epoch 18: val_recall did not improve from 0.87017\n",
            "31/31 [==============================] - 1s 25ms/step - loss: 0.0275 - recall: 1.0000 - val_loss: 0.4378 - val_recall: 0.7828\n",
            "Epoch 19/30\n",
            "31/31 [==============================] - ETA: 0s - loss: 0.0258 - recall: 1.0000\n",
            "Epoch 19: val_recall did not improve from 0.87017\n",
            "31/31 [==============================] - 1s 25ms/step - loss: 0.0258 - recall: 1.0000 - val_loss: 0.4529 - val_recall: 0.7935\n",
            "Epoch 20/30\n",
            "31/31 [==============================] - ETA: 0s - loss: 0.0251 - recall: 1.0000\n",
            "Epoch 20: val_recall did not improve from 0.87017\n",
            "31/31 [==============================] - 1s 25ms/step - loss: 0.0251 - recall: 1.0000 - val_loss: 0.4252 - val_recall: 0.7644\n",
            "Epoch 21/30\n",
            "30/31 [============================>.] - ETA: 0s - loss: 0.0241 - recall: 1.0000\n",
            "Epoch 21: val_recall did not improve from 0.87017\n",
            "31/31 [==============================] - 1s 25ms/step - loss: 0.0240 - recall: 1.0000 - val_loss: 0.4081 - val_recall: 0.7429\n",
            "Epoch 22/30\n",
            "31/31 [==============================] - ETA: 0s - loss: 0.0221 - recall: 1.0000\n",
            "Epoch 22: val_recall did not improve from 0.87017\n",
            "31/31 [==============================] - 1s 24ms/step - loss: 0.0221 - recall: 1.0000 - val_loss: 0.5251 - val_recall: 0.8100\n",
            "Epoch 23/30\n",
            "31/31 [==============================] - ETA: 0s - loss: 0.0216 - recall: 1.0000\n",
            "Epoch 23: val_recall did not improve from 0.87017\n",
            "31/31 [==============================] - 1s 25ms/step - loss: 0.0216 - recall: 1.0000 - val_loss: 0.5320 - val_recall: 0.8303\n",
            "Epoch 24/30\n",
            "31/31 [==============================] - ETA: 0s - loss: 0.0215 - recall: 1.0000\n",
            "Epoch 24: val_recall did not improve from 0.87017\n",
            "31/31 [==============================] - 1s 24ms/step - loss: 0.0215 - recall: 1.0000 - val_loss: 0.4706 - val_recall: 0.7948\n",
            "Epoch 25/30\n",
            "31/31 [==============================] - ETA: 0s - loss: 0.0194 - recall: 1.0000\n",
            "Epoch 25: val_recall did not improve from 0.87017\n",
            "31/31 [==============================] - 1s 25ms/step - loss: 0.0194 - recall: 1.0000 - val_loss: 0.4205 - val_recall: 0.8341\n",
            "Epoch 26/30\n",
            "31/31 [==============================] - ETA: 0s - loss: 0.0188 - recall: 1.0000\n",
            "Epoch 26: val_recall did not improve from 0.87017\n",
            "31/31 [==============================] - 1s 25ms/step - loss: 0.0188 - recall: 1.0000 - val_loss: 0.4554 - val_recall: 0.8018\n",
            "Epoch 27/30\n",
            "30/31 [============================>.] - ETA: 0s - loss: 0.0183 - recall: 1.0000\n",
            "Epoch 27: val_recall did not improve from 0.87017\n",
            "31/31 [==============================] - 1s 25ms/step - loss: 0.0183 - recall: 1.0000 - val_loss: 0.4466 - val_recall: 0.8037\n",
            "Epoch 28/30\n",
            "30/31 [============================>.] - ETA: 0s - loss: 0.0181 - recall: 1.0000\n",
            "Epoch 28: val_recall did not improve from 0.87017\n",
            "31/31 [==============================] - 1s 24ms/step - loss: 0.0180 - recall: 1.0000 - val_loss: 0.4928 - val_recall: 0.8100\n",
            "Epoch 29/30\n",
            "31/31 [==============================] - ETA: 0s - loss: 0.0169 - recall: 1.0000\n",
            "Epoch 29: val_recall did not improve from 0.87017\n",
            "31/31 [==============================] - 1s 24ms/step - loss: 0.0169 - recall: 1.0000 - val_loss: 0.4175 - val_recall: 0.7961\n",
            "Epoch 30/30\n",
            "31/31 [==============================] - ETA: 0s - loss: 0.0165 - recall: 1.0000\n",
            "Epoch 30: val_recall did not improve from 0.87017\n",
            "31/31 [==============================] - 1s 25ms/step - loss: 0.0165 - recall: 1.0000 - val_loss: 0.5231 - val_recall: 0.8379\n"
          ]
        }
      ],
      "source": [
        "model_final.compile(optimizer=Adam(learning_rate=1e-4), loss='binary_crossentropy', metrics=['Recall'])\n",
        "# Вывод сводки\n",
        "model_final.summary()\n",
        "\n",
        "# Обучение модели с заданными параметрами\n",
        "  \n",
        "history = model_final.fit([x_train, x_train_text], \n",
        "                           y_train,\n",
        "                           batch_size=128, \n",
        "                           epochs=30, \n",
        "                           validation_split=0.2,\n",
        "                           shuffle=True,\n",
        "                           callbacks=[checkpoint_callback],\n",
        "                           verbose=1)"
      ]
    },
    {
      "cell_type": "code",
      "source": [
        "# Настройка номеров столбцов df_test\n",
        "\n",
        "AVTOR     = df_test.columns.get_loc('Автор_label')\n",
        "RATING      = df_test.columns.get_loc('Рейтинг')\n",
        "REVIEWS_NUMBER    = df_test.columns.get_loc('Количество отзывов')\n",
        "MARK     = df_test.columns.get_loc('Оценка книги читателем (из 5 баллов)')\n",
        "REVIEW      = df_test.columns.get_loc('Отзыв')\n",
        "LIKES = df_test.columns.get_loc('Лайки на отзыв')\n",
        "DISLIKES = df_test.columns.get_loc('Дислайки на отзыв')\n",
        "LEN_REVIEWS      = df_test.columns.get_loc('len_reviews')"
      ],
      "metadata": {
        "id": "-UNp5Yu9d2c0"
      },
      "execution_count": null,
      "outputs": []
    },
    {
      "cell_type": "code",
      "source": [
        "model = models.load_model('/content/model_9.h5')  # загружаем сохраненную модель "
      ],
      "metadata": {
        "id": "TwsB0QQaMBsW"
      },
      "execution_count": null,
      "outputs": []
    },
    {
      "cell_type": "code",
      "source": [
        "def extract_row_test(row):\n",
        "  \n",
        "    # Извлечение и преобразование данных\n",
        "    avtor = np.array([row[AVTOR]])                          # автор\n",
        "    rating = np.array([row[RATING]])                         # рейтинг\n",
        "    rev_number = np.array([row[REVIEWS_NUMBER]])             # количество отзывов\n",
        "    like = np.array([row[LIKES]])\n",
        "    mark = utils.to_categorical(row[MARK], 6)               # оценка книги читателем в формате ohe\n",
        "    len_rev = np.array([row[LEN_REVIEWS]])                   # длина отзыва\n",
        "                                         \n",
        "    # Объединение всех входных данных в один общий вектор\n",
        "    x_data = np.hstack([avtor,\n",
        "                        rating, \n",
        "                        rev_number,\n",
        "                        like,\n",
        "                        mark,\n",
        "                        len_rev])\n",
        "       \n",
        "     \n",
        "    # Возврат входных данных\n",
        "    return x_data\n",
        "\n",
        "\n",
        "# Создание общей выборки\n",
        "def construct_test_data(row_list):\n",
        "    x_data = []\n",
        "       \n",
        "    for row in row_list:\n",
        "        x = extract_row_test(row)\n",
        "        x_data.append(x)\n",
        "        \n",
        "    return np.array(x_data)"
      ],
      "metadata": {
        "id": "AG2xL0wASH5l"
      },
      "execution_count": null,
      "outputs": []
    },
    {
      "cell_type": "code",
      "source": [
        "x_test = construct_test_data(df_test.values)"
      ],
      "metadata": {
        "id": "mr5sPdaySkZ7"
      },
      "execution_count": null,
      "outputs": []
    },
    {
      "cell_type": "code",
      "source": [
        "model.save('/content/drive/MyDrive/model_9.h5')"
      ],
      "metadata": {
        "id": "K4guvpspId1r"
      },
      "execution_count": null,
      "outputs": []
    },
    {
      "cell_type": "code",
      "source": [
        "y_pred = model.predict([x_test, x_test_text])  #  предсказание на тестовом наборе\n",
        "print(y_pred.shape)"
      ],
      "metadata": {
        "colab": {
          "base_uri": "https://localhost:8080/"
        },
        "id": "OkCNhGwIRkZ4",
        "outputId": "86bc3510-ceaa-4b9b-e198-e2fe96473030"
      },
      "execution_count": null,
      "outputs": [
        {
          "output_type": "stream",
          "name": "stdout",
          "text": [
            "(2075, 5)\n"
          ]
        }
      ]
    },
    {
      "cell_type": "code",
      "source": [
        "print(y_pred[:5])"
      ],
      "metadata": {
        "colab": {
          "base_uri": "https://localhost:8080/"
        },
        "id": "bjW3-3rYN3OB",
        "outputId": "8713f6aa-6811-4213-b2f1-d8656e9e1ede"
      },
      "execution_count": null,
      "outputs": [
        {
          "output_type": "stream",
          "name": "stdout",
          "text": [
            "[[0.89000964 0.31399053 0.02563559 0.98022586 0.9801793 ]\n",
            " [0.53913814 0.9925961  0.04814338 0.1787027  0.04507709]\n",
            " [0.12664598 0.0299376  0.04813948 0.08168605 0.9939599 ]\n",
            " [0.05664046 0.02222645 0.13758694 0.05234849 0.21108161]\n",
            " [0.8801666  0.95278126 0.04126056 0.17527576 0.01940012]]\n"
          ]
        }
      ]
    },
    {
      "cell_type": "code",
      "source": [
        "y = np.around(y_pred[:])"
      ],
      "metadata": {
        "id": "FkKoWN7aPMfw"
      },
      "execution_count": null,
      "outputs": []
    },
    {
      "cell_type": "code",
      "source": [
        "y = np.array(y, dtype=np.int64)\n",
        "y[10]"
      ],
      "metadata": {
        "colab": {
          "base_uri": "https://localhost:8080/"
        },
        "id": "htYyUoWCQOPY",
        "outputId": "23317aee-c7df-4d45-c570-8f219d785596"
      },
      "execution_count": null,
      "outputs": [
        {
          "output_type": "execute_result",
          "data": {
            "text/plain": [
              "array([0, 1, 0, 1, 1])"
            ]
          },
          "metadata": {},
          "execution_count": 69
        }
      ]
    },
    {
      "cell_type": "code",
      "source": [
        "column_values = ['Релевантность', 'Таксономия релевантные', 'Таксономия не релевантные', 'Длина отзыва', 'Ценности']\n",
        "df = pd.DataFrame(data = y, \n",
        "                  columns = column_values)\n",
        "df.index = df_test['RecordNo']\n",
        "\n",
        "df.head()"
      ],
      "metadata": {
        "colab": {
          "base_uri": "https://localhost:8080/",
          "height": 237
        },
        "id": "LD5JHdX_RT7o",
        "outputId": "64c49b72-ba97-43ea-83a5-49e58be7b17c"
      },
      "execution_count": null,
      "outputs": [
        {
          "output_type": "execute_result",
          "data": {
            "text/plain": [
              "          Релевантность  Таксономия релевантные  Таксономия не релевантные  \\\n",
              "RecordNo                                                                     \n",
              "3366                  1                       0                          0   \n",
              "3952                  1                       1                          0   \n",
              "6852                  0                       0                          0   \n",
              "4586                  0                       0                          0   \n",
              "4677                  1                       1                          0   \n",
              "\n",
              "          Длина отзыва  Ценности  \n",
              "RecordNo                          \n",
              "3366                 1         1  \n",
              "3952                 0         0  \n",
              "6852                 0         1  \n",
              "4586                 0         0  \n",
              "4677                 0         0  "
            ],
            "text/html": [
              "\n",
              "  <div id=\"df-23d377fb-1b5e-4cbb-8940-04c484b76859\">\n",
              "    <div class=\"colab-df-container\">\n",
              "      <div>\n",
              "<style scoped>\n",
              "    .dataframe tbody tr th:only-of-type {\n",
              "        vertical-align: middle;\n",
              "    }\n",
              "\n",
              "    .dataframe tbody tr th {\n",
              "        vertical-align: top;\n",
              "    }\n",
              "\n",
              "    .dataframe thead th {\n",
              "        text-align: right;\n",
              "    }\n",
              "</style>\n",
              "<table border=\"1\" class=\"dataframe\">\n",
              "  <thead>\n",
              "    <tr style=\"text-align: right;\">\n",
              "      <th></th>\n",
              "      <th>Релевантность</th>\n",
              "      <th>Таксономия релевантные</th>\n",
              "      <th>Таксономия не релевантные</th>\n",
              "      <th>Длина отзыва</th>\n",
              "      <th>Ценности</th>\n",
              "    </tr>\n",
              "    <tr>\n",
              "      <th>RecordNo</th>\n",
              "      <th></th>\n",
              "      <th></th>\n",
              "      <th></th>\n",
              "      <th></th>\n",
              "      <th></th>\n",
              "    </tr>\n",
              "  </thead>\n",
              "  <tbody>\n",
              "    <tr>\n",
              "      <th>3366</th>\n",
              "      <td>1</td>\n",
              "      <td>0</td>\n",
              "      <td>0</td>\n",
              "      <td>1</td>\n",
              "      <td>1</td>\n",
              "    </tr>\n",
              "    <tr>\n",
              "      <th>3952</th>\n",
              "      <td>1</td>\n",
              "      <td>1</td>\n",
              "      <td>0</td>\n",
              "      <td>0</td>\n",
              "      <td>0</td>\n",
              "    </tr>\n",
              "    <tr>\n",
              "      <th>6852</th>\n",
              "      <td>0</td>\n",
              "      <td>0</td>\n",
              "      <td>0</td>\n",
              "      <td>0</td>\n",
              "      <td>1</td>\n",
              "    </tr>\n",
              "    <tr>\n",
              "      <th>4586</th>\n",
              "      <td>0</td>\n",
              "      <td>0</td>\n",
              "      <td>0</td>\n",
              "      <td>0</td>\n",
              "      <td>0</td>\n",
              "    </tr>\n",
              "    <tr>\n",
              "      <th>4677</th>\n",
              "      <td>1</td>\n",
              "      <td>1</td>\n",
              "      <td>0</td>\n",
              "      <td>0</td>\n",
              "      <td>0</td>\n",
              "    </tr>\n",
              "  </tbody>\n",
              "</table>\n",
              "</div>\n",
              "      <button class=\"colab-df-convert\" onclick=\"convertToInteractive('df-23d377fb-1b5e-4cbb-8940-04c484b76859')\"\n",
              "              title=\"Convert this dataframe to an interactive table.\"\n",
              "              style=\"display:none;\">\n",
              "        \n",
              "  <svg xmlns=\"http://www.w3.org/2000/svg\" height=\"24px\"viewBox=\"0 0 24 24\"\n",
              "       width=\"24px\">\n",
              "    <path d=\"M0 0h24v24H0V0z\" fill=\"none\"/>\n",
              "    <path d=\"M18.56 5.44l.94 2.06.94-2.06 2.06-.94-2.06-.94-.94-2.06-.94 2.06-2.06.94zm-11 1L8.5 8.5l.94-2.06 2.06-.94-2.06-.94L8.5 2.5l-.94 2.06-2.06.94zm10 10l.94 2.06.94-2.06 2.06-.94-2.06-.94-.94-2.06-.94 2.06-2.06.94z\"/><path d=\"M17.41 7.96l-1.37-1.37c-.4-.4-.92-.59-1.43-.59-.52 0-1.04.2-1.43.59L10.3 9.45l-7.72 7.72c-.78.78-.78 2.05 0 2.83L4 21.41c.39.39.9.59 1.41.59.51 0 1.02-.2 1.41-.59l7.78-7.78 2.81-2.81c.8-.78.8-2.07 0-2.86zM5.41 20L4 18.59l7.72-7.72 1.47 1.35L5.41 20z\"/>\n",
              "  </svg>\n",
              "      </button>\n",
              "      \n",
              "  <style>\n",
              "    .colab-df-container {\n",
              "      display:flex;\n",
              "      flex-wrap:wrap;\n",
              "      gap: 12px;\n",
              "    }\n",
              "\n",
              "    .colab-df-convert {\n",
              "      background-color: #E8F0FE;\n",
              "      border: none;\n",
              "      border-radius: 50%;\n",
              "      cursor: pointer;\n",
              "      display: none;\n",
              "      fill: #1967D2;\n",
              "      height: 32px;\n",
              "      padding: 0 0 0 0;\n",
              "      width: 32px;\n",
              "    }\n",
              "\n",
              "    .colab-df-convert:hover {\n",
              "      background-color: #E2EBFA;\n",
              "      box-shadow: 0px 1px 2px rgba(60, 64, 67, 0.3), 0px 1px 3px 1px rgba(60, 64, 67, 0.15);\n",
              "      fill: #174EA6;\n",
              "    }\n",
              "\n",
              "    [theme=dark] .colab-df-convert {\n",
              "      background-color: #3B4455;\n",
              "      fill: #D2E3FC;\n",
              "    }\n",
              "\n",
              "    [theme=dark] .colab-df-convert:hover {\n",
              "      background-color: #434B5C;\n",
              "      box-shadow: 0px 1px 3px 1px rgba(0, 0, 0, 0.15);\n",
              "      filter: drop-shadow(0px 1px 2px rgba(0, 0, 0, 0.3));\n",
              "      fill: #FFFFFF;\n",
              "    }\n",
              "  </style>\n",
              "\n",
              "      <script>\n",
              "        const buttonEl =\n",
              "          document.querySelector('#df-23d377fb-1b5e-4cbb-8940-04c484b76859 button.colab-df-convert');\n",
              "        buttonEl.style.display =\n",
              "          google.colab.kernel.accessAllowed ? 'block' : 'none';\n",
              "\n",
              "        async function convertToInteractive(key) {\n",
              "          const element = document.querySelector('#df-23d377fb-1b5e-4cbb-8940-04c484b76859');\n",
              "          const dataTable =\n",
              "            await google.colab.kernel.invokeFunction('convertToInteractive',\n",
              "                                                     [key], {});\n",
              "          if (!dataTable) return;\n",
              "\n",
              "          const docLinkHtml = 'Like what you see? Visit the ' +\n",
              "            '<a target=\"_blank\" href=https://colab.research.google.com/notebooks/data_table.ipynb>data table notebook</a>'\n",
              "            + ' to learn more about interactive tables.';\n",
              "          element.innerHTML = '';\n",
              "          dataTable['output_type'] = 'display_data';\n",
              "          await google.colab.output.renderOutput(dataTable, element);\n",
              "          const docLink = document.createElement('div');\n",
              "          docLink.innerHTML = docLinkHtml;\n",
              "          element.appendChild(docLink);\n",
              "        }\n",
              "      </script>\n",
              "    </div>\n",
              "  </div>\n",
              "  "
            ]
          },
          "metadata": {},
          "execution_count": 70
        }
      ]
    },
    {
      "cell_type": "code",
      "source": [
        "df.to_csv(\"Vologda_prediction9.csv\")"
      ],
      "metadata": {
        "id": "lbBAJQnKT-ql"
      },
      "execution_count": null,
      "outputs": []
    }
  ],
  "metadata": {
    "colab": {
      "provenance": [],
      "collapsed_sections": [],
      "mount_file_id": "1o_Vf_ESEuryTMLWeXnyI8EHH4tzn32iM",
      "authorship_tag": "ABX9TyOtoAH5mPeh14PaOx39cHqy",
      "include_colab_link": true
    },
    "kernelspec": {
      "display_name": "Python 3",
      "name": "python3"
    },
    "language_info": {
      "name": "python"
    },
    "widgets": {
      "application/vnd.jupyter.widget-state+json": {
        "6813a1e9ae344b56a0fb70eec0071823": {
          "model_module": "@jupyter-widgets/controls",
          "model_name": "HBoxModel",
          "model_module_version": "1.5.0",
          "state": {
            "_dom_classes": [],
            "_model_module": "@jupyter-widgets/controls",
            "_model_module_version": "1.5.0",
            "_model_name": "HBoxModel",
            "_view_count": null,
            "_view_module": "@jupyter-widgets/controls",
            "_view_module_version": "1.5.0",
            "_view_name": "HBoxView",
            "box_style": "",
            "children": [
              "IPY_MODEL_8fd07651e23b4aa593e65597efd816f8",
              "IPY_MODEL_148fc8ff1d2d4cb88f254ee2f4e96490",
              "IPY_MODEL_617f6b367f5e4ec3a57e1a7690beab5d"
            ],
            "layout": "IPY_MODEL_b8a657f15a3049df8dc566bb936a0ddf"
          }
        },
        "8fd07651e23b4aa593e65597efd816f8": {
          "model_module": "@jupyter-widgets/controls",
          "model_name": "HTMLModel",
          "model_module_version": "1.5.0",
          "state": {
            "_dom_classes": [],
            "_model_module": "@jupyter-widgets/controls",
            "_model_module_version": "1.5.0",
            "_model_name": "HTMLModel",
            "_view_count": null,
            "_view_module": "@jupyter-widgets/controls",
            "_view_module_version": "1.5.0",
            "_view_name": "HTMLView",
            "description": "",
            "description_tooltip": null,
            "layout": "IPY_MODEL_c7d94460d3bf49398bedf7b3b01ecbf0",
            "placeholder": "​",
            "style": "IPY_MODEL_c75e18f785de419db4807c1188cdf900",
            "value": "100%"
          }
        },
        "148fc8ff1d2d4cb88f254ee2f4e96490": {
          "model_module": "@jupyter-widgets/controls",
          "model_name": "FloatProgressModel",
          "model_module_version": "1.5.0",
          "state": {
            "_dom_classes": [],
            "_model_module": "@jupyter-widgets/controls",
            "_model_module_version": "1.5.0",
            "_model_name": "FloatProgressModel",
            "_view_count": null,
            "_view_module": "@jupyter-widgets/controls",
            "_view_module_version": "1.5.0",
            "_view_name": "ProgressView",
            "bar_style": "success",
            "description": "",
            "description_tooltip": null,
            "layout": "IPY_MODEL_83ffeb47cb0c4739b25ef43a285c8887",
            "max": 4839,
            "min": 0,
            "orientation": "horizontal",
            "style": "IPY_MODEL_4ecdfccbf9434348982cd260cae21bf3",
            "value": 4839
          }
        },
        "617f6b367f5e4ec3a57e1a7690beab5d": {
          "model_module": "@jupyter-widgets/controls",
          "model_name": "HTMLModel",
          "model_module_version": "1.5.0",
          "state": {
            "_dom_classes": [],
            "_model_module": "@jupyter-widgets/controls",
            "_model_module_version": "1.5.0",
            "_model_name": "HTMLModel",
            "_view_count": null,
            "_view_module": "@jupyter-widgets/controls",
            "_view_module_version": "1.5.0",
            "_view_name": "HTMLView",
            "description": "",
            "description_tooltip": null,
            "layout": "IPY_MODEL_1047ad933a754bf9a0ad23b4b945f7f3",
            "placeholder": "​",
            "style": "IPY_MODEL_a01da414f1dd4831b200a5c55dc5dd6c",
            "value": " 4839/4839 [00:37&lt;00:00, 176.00it/s]"
          }
        },
        "b8a657f15a3049df8dc566bb936a0ddf": {
          "model_module": "@jupyter-widgets/base",
          "model_name": "LayoutModel",
          "model_module_version": "1.2.0",
          "state": {
            "_model_module": "@jupyter-widgets/base",
            "_model_module_version": "1.2.0",
            "_model_name": "LayoutModel",
            "_view_count": null,
            "_view_module": "@jupyter-widgets/base",
            "_view_module_version": "1.2.0",
            "_view_name": "LayoutView",
            "align_content": null,
            "align_items": null,
            "align_self": null,
            "border": null,
            "bottom": null,
            "display": null,
            "flex": null,
            "flex_flow": null,
            "grid_area": null,
            "grid_auto_columns": null,
            "grid_auto_flow": null,
            "grid_auto_rows": null,
            "grid_column": null,
            "grid_gap": null,
            "grid_row": null,
            "grid_template_areas": null,
            "grid_template_columns": null,
            "grid_template_rows": null,
            "height": null,
            "justify_content": null,
            "justify_items": null,
            "left": null,
            "margin": null,
            "max_height": null,
            "max_width": null,
            "min_height": null,
            "min_width": null,
            "object_fit": null,
            "object_position": null,
            "order": null,
            "overflow": null,
            "overflow_x": null,
            "overflow_y": null,
            "padding": null,
            "right": null,
            "top": null,
            "visibility": null,
            "width": null
          }
        },
        "c7d94460d3bf49398bedf7b3b01ecbf0": {
          "model_module": "@jupyter-widgets/base",
          "model_name": "LayoutModel",
          "model_module_version": "1.2.0",
          "state": {
            "_model_module": "@jupyter-widgets/base",
            "_model_module_version": "1.2.0",
            "_model_name": "LayoutModel",
            "_view_count": null,
            "_view_module": "@jupyter-widgets/base",
            "_view_module_version": "1.2.0",
            "_view_name": "LayoutView",
            "align_content": null,
            "align_items": null,
            "align_self": null,
            "border": null,
            "bottom": null,
            "display": null,
            "flex": null,
            "flex_flow": null,
            "grid_area": null,
            "grid_auto_columns": null,
            "grid_auto_flow": null,
            "grid_auto_rows": null,
            "grid_column": null,
            "grid_gap": null,
            "grid_row": null,
            "grid_template_areas": null,
            "grid_template_columns": null,
            "grid_template_rows": null,
            "height": null,
            "justify_content": null,
            "justify_items": null,
            "left": null,
            "margin": null,
            "max_height": null,
            "max_width": null,
            "min_height": null,
            "min_width": null,
            "object_fit": null,
            "object_position": null,
            "order": null,
            "overflow": null,
            "overflow_x": null,
            "overflow_y": null,
            "padding": null,
            "right": null,
            "top": null,
            "visibility": null,
            "width": null
          }
        },
        "c75e18f785de419db4807c1188cdf900": {
          "model_module": "@jupyter-widgets/controls",
          "model_name": "DescriptionStyleModel",
          "model_module_version": "1.5.0",
          "state": {
            "_model_module": "@jupyter-widgets/controls",
            "_model_module_version": "1.5.0",
            "_model_name": "DescriptionStyleModel",
            "_view_count": null,
            "_view_module": "@jupyter-widgets/base",
            "_view_module_version": "1.2.0",
            "_view_name": "StyleView",
            "description_width": ""
          }
        },
        "83ffeb47cb0c4739b25ef43a285c8887": {
          "model_module": "@jupyter-widgets/base",
          "model_name": "LayoutModel",
          "model_module_version": "1.2.0",
          "state": {
            "_model_module": "@jupyter-widgets/base",
            "_model_module_version": "1.2.0",
            "_model_name": "LayoutModel",
            "_view_count": null,
            "_view_module": "@jupyter-widgets/base",
            "_view_module_version": "1.2.0",
            "_view_name": "LayoutView",
            "align_content": null,
            "align_items": null,
            "align_self": null,
            "border": null,
            "bottom": null,
            "display": null,
            "flex": null,
            "flex_flow": null,
            "grid_area": null,
            "grid_auto_columns": null,
            "grid_auto_flow": null,
            "grid_auto_rows": null,
            "grid_column": null,
            "grid_gap": null,
            "grid_row": null,
            "grid_template_areas": null,
            "grid_template_columns": null,
            "grid_template_rows": null,
            "height": null,
            "justify_content": null,
            "justify_items": null,
            "left": null,
            "margin": null,
            "max_height": null,
            "max_width": null,
            "min_height": null,
            "min_width": null,
            "object_fit": null,
            "object_position": null,
            "order": null,
            "overflow": null,
            "overflow_x": null,
            "overflow_y": null,
            "padding": null,
            "right": null,
            "top": null,
            "visibility": null,
            "width": null
          }
        },
        "4ecdfccbf9434348982cd260cae21bf3": {
          "model_module": "@jupyter-widgets/controls",
          "model_name": "ProgressStyleModel",
          "model_module_version": "1.5.0",
          "state": {
            "_model_module": "@jupyter-widgets/controls",
            "_model_module_version": "1.5.0",
            "_model_name": "ProgressStyleModel",
            "_view_count": null,
            "_view_module": "@jupyter-widgets/base",
            "_view_module_version": "1.2.0",
            "_view_name": "StyleView",
            "bar_color": null,
            "description_width": ""
          }
        },
        "1047ad933a754bf9a0ad23b4b945f7f3": {
          "model_module": "@jupyter-widgets/base",
          "model_name": "LayoutModel",
          "model_module_version": "1.2.0",
          "state": {
            "_model_module": "@jupyter-widgets/base",
            "_model_module_version": "1.2.0",
            "_model_name": "LayoutModel",
            "_view_count": null,
            "_view_module": "@jupyter-widgets/base",
            "_view_module_version": "1.2.0",
            "_view_name": "LayoutView",
            "align_content": null,
            "align_items": null,
            "align_self": null,
            "border": null,
            "bottom": null,
            "display": null,
            "flex": null,
            "flex_flow": null,
            "grid_area": null,
            "grid_auto_columns": null,
            "grid_auto_flow": null,
            "grid_auto_rows": null,
            "grid_column": null,
            "grid_gap": null,
            "grid_row": null,
            "grid_template_areas": null,
            "grid_template_columns": null,
            "grid_template_rows": null,
            "height": null,
            "justify_content": null,
            "justify_items": null,
            "left": null,
            "margin": null,
            "max_height": null,
            "max_width": null,
            "min_height": null,
            "min_width": null,
            "object_fit": null,
            "object_position": null,
            "order": null,
            "overflow": null,
            "overflow_x": null,
            "overflow_y": null,
            "padding": null,
            "right": null,
            "top": null,
            "visibility": null,
            "width": null
          }
        },
        "a01da414f1dd4831b200a5c55dc5dd6c": {
          "model_module": "@jupyter-widgets/controls",
          "model_name": "DescriptionStyleModel",
          "model_module_version": "1.5.0",
          "state": {
            "_model_module": "@jupyter-widgets/controls",
            "_model_module_version": "1.5.0",
            "_model_name": "DescriptionStyleModel",
            "_view_count": null,
            "_view_module": "@jupyter-widgets/base",
            "_view_module_version": "1.2.0",
            "_view_name": "StyleView",
            "description_width": ""
          }
        },
        "fdf28501774545d584e546fc6d4d36ac": {
          "model_module": "@jupyter-widgets/controls",
          "model_name": "HBoxModel",
          "model_module_version": "1.5.0",
          "state": {
            "_dom_classes": [],
            "_model_module": "@jupyter-widgets/controls",
            "_model_module_version": "1.5.0",
            "_model_name": "HBoxModel",
            "_view_count": null,
            "_view_module": "@jupyter-widgets/controls",
            "_view_module_version": "1.5.0",
            "_view_name": "HBoxView",
            "box_style": "",
            "children": [
              "IPY_MODEL_f622aa092cfd4badad2d259f9eecff67",
              "IPY_MODEL_770ae6e4ea284c31a4a1514dc47cab95",
              "IPY_MODEL_8429a69502fc46cb97edbb58693ef75a"
            ],
            "layout": "IPY_MODEL_c9eddd3d48764992bc8c0dc1d94215f7"
          }
        },
        "f622aa092cfd4badad2d259f9eecff67": {
          "model_module": "@jupyter-widgets/controls",
          "model_name": "HTMLModel",
          "model_module_version": "1.5.0",
          "state": {
            "_dom_classes": [],
            "_model_module": "@jupyter-widgets/controls",
            "_model_module_version": "1.5.0",
            "_model_name": "HTMLModel",
            "_view_count": null,
            "_view_module": "@jupyter-widgets/controls",
            "_view_module_version": "1.5.0",
            "_view_name": "HTMLView",
            "description": "",
            "description_tooltip": null,
            "layout": "IPY_MODEL_1fc594f8ea644682a36c93a8dd58a019",
            "placeholder": "​",
            "style": "IPY_MODEL_351a09b2fcc84ebaafbe44fb388cff24",
            "value": "100%"
          }
        },
        "770ae6e4ea284c31a4a1514dc47cab95": {
          "model_module": "@jupyter-widgets/controls",
          "model_name": "FloatProgressModel",
          "model_module_version": "1.5.0",
          "state": {
            "_dom_classes": [],
            "_model_module": "@jupyter-widgets/controls",
            "_model_module_version": "1.5.0",
            "_model_name": "FloatProgressModel",
            "_view_count": null,
            "_view_module": "@jupyter-widgets/controls",
            "_view_module_version": "1.5.0",
            "_view_name": "ProgressView",
            "bar_style": "success",
            "description": "",
            "description_tooltip": null,
            "layout": "IPY_MODEL_9a1aef2a2f554f438620fd2f2882acf5",
            "max": 2075,
            "min": 0,
            "orientation": "horizontal",
            "style": "IPY_MODEL_c509843ac0e04f8eb9a18bc187e2b6b4",
            "value": 2075
          }
        },
        "8429a69502fc46cb97edbb58693ef75a": {
          "model_module": "@jupyter-widgets/controls",
          "model_name": "HTMLModel",
          "model_module_version": "1.5.0",
          "state": {
            "_dom_classes": [],
            "_model_module": "@jupyter-widgets/controls",
            "_model_module_version": "1.5.0",
            "_model_name": "HTMLModel",
            "_view_count": null,
            "_view_module": "@jupyter-widgets/controls",
            "_view_module_version": "1.5.0",
            "_view_name": "HTMLView",
            "description": "",
            "description_tooltip": null,
            "layout": "IPY_MODEL_7ff5ff604084428a9e6ac623a0aa22b7",
            "placeholder": "​",
            "style": "IPY_MODEL_ee368e0f746a423aa7f1a61a588f8d7b",
            "value": " 2075/2075 [00:13&lt;00:00, 138.92it/s]"
          }
        },
        "c9eddd3d48764992bc8c0dc1d94215f7": {
          "model_module": "@jupyter-widgets/base",
          "model_name": "LayoutModel",
          "model_module_version": "1.2.0",
          "state": {
            "_model_module": "@jupyter-widgets/base",
            "_model_module_version": "1.2.0",
            "_model_name": "LayoutModel",
            "_view_count": null,
            "_view_module": "@jupyter-widgets/base",
            "_view_module_version": "1.2.0",
            "_view_name": "LayoutView",
            "align_content": null,
            "align_items": null,
            "align_self": null,
            "border": null,
            "bottom": null,
            "display": null,
            "flex": null,
            "flex_flow": null,
            "grid_area": null,
            "grid_auto_columns": null,
            "grid_auto_flow": null,
            "grid_auto_rows": null,
            "grid_column": null,
            "grid_gap": null,
            "grid_row": null,
            "grid_template_areas": null,
            "grid_template_columns": null,
            "grid_template_rows": null,
            "height": null,
            "justify_content": null,
            "justify_items": null,
            "left": null,
            "margin": null,
            "max_height": null,
            "max_width": null,
            "min_height": null,
            "min_width": null,
            "object_fit": null,
            "object_position": null,
            "order": null,
            "overflow": null,
            "overflow_x": null,
            "overflow_y": null,
            "padding": null,
            "right": null,
            "top": null,
            "visibility": null,
            "width": null
          }
        },
        "1fc594f8ea644682a36c93a8dd58a019": {
          "model_module": "@jupyter-widgets/base",
          "model_name": "LayoutModel",
          "model_module_version": "1.2.0",
          "state": {
            "_model_module": "@jupyter-widgets/base",
            "_model_module_version": "1.2.0",
            "_model_name": "LayoutModel",
            "_view_count": null,
            "_view_module": "@jupyter-widgets/base",
            "_view_module_version": "1.2.0",
            "_view_name": "LayoutView",
            "align_content": null,
            "align_items": null,
            "align_self": null,
            "border": null,
            "bottom": null,
            "display": null,
            "flex": null,
            "flex_flow": null,
            "grid_area": null,
            "grid_auto_columns": null,
            "grid_auto_flow": null,
            "grid_auto_rows": null,
            "grid_column": null,
            "grid_gap": null,
            "grid_row": null,
            "grid_template_areas": null,
            "grid_template_columns": null,
            "grid_template_rows": null,
            "height": null,
            "justify_content": null,
            "justify_items": null,
            "left": null,
            "margin": null,
            "max_height": null,
            "max_width": null,
            "min_height": null,
            "min_width": null,
            "object_fit": null,
            "object_position": null,
            "order": null,
            "overflow": null,
            "overflow_x": null,
            "overflow_y": null,
            "padding": null,
            "right": null,
            "top": null,
            "visibility": null,
            "width": null
          }
        },
        "351a09b2fcc84ebaafbe44fb388cff24": {
          "model_module": "@jupyter-widgets/controls",
          "model_name": "DescriptionStyleModel",
          "model_module_version": "1.5.0",
          "state": {
            "_model_module": "@jupyter-widgets/controls",
            "_model_module_version": "1.5.0",
            "_model_name": "DescriptionStyleModel",
            "_view_count": null,
            "_view_module": "@jupyter-widgets/base",
            "_view_module_version": "1.2.0",
            "_view_name": "StyleView",
            "description_width": ""
          }
        },
        "9a1aef2a2f554f438620fd2f2882acf5": {
          "model_module": "@jupyter-widgets/base",
          "model_name": "LayoutModel",
          "model_module_version": "1.2.0",
          "state": {
            "_model_module": "@jupyter-widgets/base",
            "_model_module_version": "1.2.0",
            "_model_name": "LayoutModel",
            "_view_count": null,
            "_view_module": "@jupyter-widgets/base",
            "_view_module_version": "1.2.0",
            "_view_name": "LayoutView",
            "align_content": null,
            "align_items": null,
            "align_self": null,
            "border": null,
            "bottom": null,
            "display": null,
            "flex": null,
            "flex_flow": null,
            "grid_area": null,
            "grid_auto_columns": null,
            "grid_auto_flow": null,
            "grid_auto_rows": null,
            "grid_column": null,
            "grid_gap": null,
            "grid_row": null,
            "grid_template_areas": null,
            "grid_template_columns": null,
            "grid_template_rows": null,
            "height": null,
            "justify_content": null,
            "justify_items": null,
            "left": null,
            "margin": null,
            "max_height": null,
            "max_width": null,
            "min_height": null,
            "min_width": null,
            "object_fit": null,
            "object_position": null,
            "order": null,
            "overflow": null,
            "overflow_x": null,
            "overflow_y": null,
            "padding": null,
            "right": null,
            "top": null,
            "visibility": null,
            "width": null
          }
        },
        "c509843ac0e04f8eb9a18bc187e2b6b4": {
          "model_module": "@jupyter-widgets/controls",
          "model_name": "ProgressStyleModel",
          "model_module_version": "1.5.0",
          "state": {
            "_model_module": "@jupyter-widgets/controls",
            "_model_module_version": "1.5.0",
            "_model_name": "ProgressStyleModel",
            "_view_count": null,
            "_view_module": "@jupyter-widgets/base",
            "_view_module_version": "1.2.0",
            "_view_name": "StyleView",
            "bar_color": null,
            "description_width": ""
          }
        },
        "7ff5ff604084428a9e6ac623a0aa22b7": {
          "model_module": "@jupyter-widgets/base",
          "model_name": "LayoutModel",
          "model_module_version": "1.2.0",
          "state": {
            "_model_module": "@jupyter-widgets/base",
            "_model_module_version": "1.2.0",
            "_model_name": "LayoutModel",
            "_view_count": null,
            "_view_module": "@jupyter-widgets/base",
            "_view_module_version": "1.2.0",
            "_view_name": "LayoutView",
            "align_content": null,
            "align_items": null,
            "align_self": null,
            "border": null,
            "bottom": null,
            "display": null,
            "flex": null,
            "flex_flow": null,
            "grid_area": null,
            "grid_auto_columns": null,
            "grid_auto_flow": null,
            "grid_auto_rows": null,
            "grid_column": null,
            "grid_gap": null,
            "grid_row": null,
            "grid_template_areas": null,
            "grid_template_columns": null,
            "grid_template_rows": null,
            "height": null,
            "justify_content": null,
            "justify_items": null,
            "left": null,
            "margin": null,
            "max_height": null,
            "max_width": null,
            "min_height": null,
            "min_width": null,
            "object_fit": null,
            "object_position": null,
            "order": null,
            "overflow": null,
            "overflow_x": null,
            "overflow_y": null,
            "padding": null,
            "right": null,
            "top": null,
            "visibility": null,
            "width": null
          }
        },
        "ee368e0f746a423aa7f1a61a588f8d7b": {
          "model_module": "@jupyter-widgets/controls",
          "model_name": "DescriptionStyleModel",
          "model_module_version": "1.5.0",
          "state": {
            "_model_module": "@jupyter-widgets/controls",
            "_model_module_version": "1.5.0",
            "_model_name": "DescriptionStyleModel",
            "_view_count": null,
            "_view_module": "@jupyter-widgets/base",
            "_view_module_version": "1.2.0",
            "_view_name": "StyleView",
            "description_width": ""
          }
        }
      }
    },
    "accelerator": "GPU"
  },
  "nbformat": 4,
  "nbformat_minor": 0
}